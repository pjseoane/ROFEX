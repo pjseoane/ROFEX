{
 "cells": [
  {
   "cell_type": "code",
   "execution_count": 4,
   "metadata": {
    "collapsed": true
   },
   "outputs": [],
   "source": [
    "from Classes import cSuscription as env\n"
   ]
  },
  {
   "cell_type": "code",
   "execution_count": 5,
   "metadata": {},
   "outputs": [],
   "source": [
    "symbols=[\"DODic18\",\"RFX20Dic18\"]"
   ]
  },
  {
   "cell_type": "code",
   "execution_count": 7,
   "metadata": {},
   "outputs": [
    {
     "name": "stdout",
     "output_type": "stream",
     "text": [
      "login() OK ---> vXwL5XG8oPygEdSwhAJc/DpRBcPQhdaQSZUfxAbv5pM=\n"
     ]
    },
    {
     "name": "stdout",
     "output_type": "stream",
     "text": [
      "WS Conection Open...\n"
     ]
    },
    {
     "name": "stdout",
     "output_type": "stream",
     "text": [
      "Sent Suscription msg {\"type\":\"smd\",\"level\":1, \"entries\":[\"BI\", \"OF\"],\"products\":[{\"symbol\":\"DODic18\",\"marketId\":\"ROFX\"}]}\nReceiving...\nMensaje devuelto erroneo\nError al procesar mensaje recibido:--->>> {\"status\":\"ERROR\",\"message\":\"{\\\"type\\\":\\\"smd\\\",\\\"level\\\":1, \\\"entries\\\":[\\\"BI\\\", \\\"OF\\\"],\\\"products\\\":[{\\\"symbol\\\":\\\"DODic18\\\",\\\"marketId\\\":\\\"ROFX\\\"}]}\",\"description\":\"Product DODic18:ROFX don't exist\"}\n"
     ]
    },
    {
     "name": "stdout",
     "output_type": "stream",
     "text": [
      "Sent Suscription msg {\"type\":\"smd\",\"level\":1, \"entries\":[\"BI\", \"OF\"],\"products\":[{\"symbol\":\"RFX20Dic18\",\"marketId\":\"ROFX\"}]}\nReceiving...\n"
     ]
    },
    {
     "name": "stdout",
     "output_type": "stream",
     "text": [
      "Mensaje devuelto erroneo\nError al procesar mensaje recibido:--->>> {\"status\":\"ERROR\",\"message\":\"{\\\"type\\\":\\\"smd\\\",\\\"level\\\":1, \\\"entries\\\":[\\\"BI\\\", \\\"OF\\\"],\\\"products\\\":[{\\\"symbol\\\":\\\"RFX20Dic18\\\",\\\"marketId\\\":\\\"ROFX\\\"}]}\",\"description\":\"Product RFX20Dic18:ROFX don't exist\"}\n"
     ]
    }
   ],
   "source": [
    "env1=env.cSuscription(\"balanz\",\"balanz\",\"555\",symbols)"
   ]
  },
  {
   "cell_type": "code",
   "execution_count": null,
   "metadata": {},
   "outputs": [],
   "source": []
  }
 ],
 "metadata": {
  "kernelspec": {
   "display_name": "Python 2",
   "language": "python",
   "name": "python2"
  },
  "language_info": {
   "codemirror_mode": {
    "name": "ipython",
    "version": 2
   },
   "file_extension": ".py",
   "mimetype": "text/x-python",
   "name": "python",
   "nbconvert_exporter": "python",
   "pygments_lexer": "ipython2",
   "version": "2.7.6"
  }
 },
 "nbformat": 4,
 "nbformat_minor": 0
}
