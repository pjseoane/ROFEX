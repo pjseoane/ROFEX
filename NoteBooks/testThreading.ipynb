{
 "cells": [
  {
   "cell_type": "code",
   "execution_count": 1,
   "metadata": {
    "collapsed": true
   },
   "outputs": [],
   "source": [
    "import threading\n",
    "import time\n",
    "from datetime import datetime"
   ]
  },
  {
   "cell_type": "code",
   "execution_count": 9,
   "metadata": {},
   "outputs": [],
   "source": [
    "def func(i):\n",
    "    print(\"Tread #\",i,\"seconds\",str(datetime.today().second))\n",
    "    time.sleep(i*30)"
   ]
  },
  {
   "cell_type": "code",
   "execution_count": 10,
   "metadata": {},
   "outputs": [
    {
     "name": "stdout",
     "output_type": "stream",
     "text": [
      "Tread # 0 seconds 27\nTread # 1 seconds 28\nTread # 2 seconds 28\nTread # 3 seconds 28\nTread #"
     ]
    },
    {
     "name": "stdout",
     "output_type": "stream",
     "text": [
      " 4 seconds 28\n"
     ]
    }
   ],
   "source": [
    "for i in range(5):\n",
    "    w = threading.Thread(target=func,args=(i,)).start()"
   ]
  },
  {
   "cell_type": "code",
   "execution_count": 13,
   "metadata": {},
   "outputs": [],
   "source": [
    "def f(i):\n",
    "    time.sleep(i*1000)\n",
    "    return\n",
    "t1 = threading.Thread(target=f, args=(1.2,), name=\"Thread#1\")\n",
    "t1.start()\n",
    "t2 = threading.Thread(target=f, args=(2.2,), name=\"Thread#2\")\n",
    "t2.start()"
   ]
  },
  {
   "cell_type": "code",
   "execution_count": 14,
   "metadata": {},
   "outputs": [
    {
     "name": "stdout",
     "output_type": "stream",
     "text": [
      "[ Sat Nov 17 16:01:06 2018 ] Thread#1 True\n[ Sat Nov 17 16:01:06 2018 ] Thread#2 True\n"
     ]
    },
    {
     "name": "stdout",
     "output_type": "stream",
     "text": [
      "[ Sat Nov 17 16:01:07 2018 ] Thread#1 True\n[ Sat Nov 17 16:01:07 2018 ] Thread#2 True\n"
     ]
    },
    {
     "name": "stdout",
     "output_type": "stream",
     "text": [
      "[ Sat Nov 17 16:01:08 2018 ] Thread#1 True\n[ Sat Nov 17 16:01:08 2018 ] Thread#2 True\n"
     ]
    },
    {
     "name": "stdout",
     "output_type": "stream",
     "text": [
      "[ Sat Nov 17 16:01:09 2018 ] Thread#1 True\n[ Sat Nov 17 16:01:09 2018 ] Thread#2 True\n"
     ]
    },
    {
     "name": "stdout",
     "output_type": "stream",
     "text": [
      "[ Sat Nov 17 16:01:11 2018 ] Thread#1 True\n[ Sat Nov 17 16:01:11 2018 ] Thread#2 True\n"
     ]
    }
   ],
   "source": [
    "for p in range(5):\n",
    "    time.sleep(p*0.5)\n",
    "    print('[',time.ctime(),']', t1.getName(), t1.is_alive())\n",
    "    print('[',time.ctime(),']', t2.getName(), t2.is_alive())"
   ]
  },
  {
   "cell_type": "code",
   "execution_count": null,
   "metadata": {},
   "outputs": [],
   "source": []
  }
 ],
 "metadata": {
  "kernelspec": {
   "display_name": "Python 2",
   "language": "python",
   "name": "python2"
  },
  "language_info": {
   "codemirror_mode": {
    "name": "ipython",
    "version": 2
   },
   "file_extension": ".py",
   "mimetype": "text/x-python",
   "name": "python",
   "nbconvert_exporter": "python",
   "pygments_lexer": "ipython2",
   "version": "2.7.6"
  }
 },
 "nbformat": 4,
 "nbformat_minor": 0
}
