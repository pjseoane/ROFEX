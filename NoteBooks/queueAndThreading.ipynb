{
 "cells": [
  {
   "cell_type": "code",
   "execution_count": 1,
   "metadata": {
    "collapsed": true
   },
   "outputs": [],
   "source": [
    "import threading\n",
    "from queue import Queue\n",
    "import time\n",
    "# ver esta web\n",
    "#https://docs.python.org/3/library/queue.html"
   ]
  },
  {
   "cell_type": "code",
   "execution_count": 14,
   "metadata": {},
   "outputs": [],
   "source": [
    "#variable para lockear un thread\n",
    "print_lock = threading.Lock()"
   ]
  },
  {
   "cell_type": "code",
   "execution_count": 15,
   "metadata": {},
   "outputs": [],
   "source": [
    "#worker deberian ser el bot / symbols o grupo de symmbols\n",
    "\n",
    "def exampleJob(worker):\n",
    "    time.sleep(.5) # pretend to do some work.\n",
    "    with print_lock:\n",
    "        print(\"Threading name ->:\",threading.current_thread().name,\"  Worker ->\",worker)"
   ]
  },
  {
   "cell_type": "code",
   "execution_count": 16,
   "metadata": {},
   "outputs": [],
   "source": [
    "# Create the queue and threader \n",
    "#Aloja los workers / bots\n",
    "q = Queue()"
   ]
  },
  {
   "cell_type": "code",
   "execution_count": 17,
   "metadata": {},
   "outputs": [],
   "source": [
    "# The threader thread pulls an worker from the queue and processes it\n",
    "def threader():\n",
    "    while True:\n",
    "        # gets an worker from the queue\n",
    "        worker = q.get()\n",
    "\n",
    "        # Run the example job with the avail worker in queue (thread)\n",
    "        exampleJob(worker)\n",
    "\n",
    "        # completed with the job\n",
    "        q.task_done()"
   ]
  },
  {
   "cell_type": "code",
   "execution_count": 18,
   "metadata": {},
   "outputs": [
    {
     "name": "stdout",
     "output_type": "stream",
     "text": [
      "Threading name ->: Thread-23 Worker -> 7\nThreading name ->: Thread-22 Worker -> 6\nThreading name ->: Thread-24 Worker -> 8\nThreading name ->: Thread-21 Worker -> 5\nThreading name ->: Thread-20 Worker -> 4\nThreading name ->: Thread-18 Worker -> 2\nThreading name ->: Thread-19 Worker -> 3\nThreading name ->: Thread-17 Worker -> 1\nThreading name ->: Thread-16 Worker -> 0\nThreading name ->: Thread-25 Worker -> 9\n"
     ]
    },
    {
     "name": "stdout",
     "output_type": "stream",
     "text": [
      "Threading name ->: Thread-23 Worker -> 10\nThreading name ->: Thread-22 Worker -> 11\nThreading name ->: Thread-24 Worker -> 12\nThreading name ->: Thread-21 Worker -> 13\nThreading name ->: Thread-20 Worker -> 14\nThreading name ->: Thread-18 Worker -> 15\nThreading name ->: Thread-19 Worker -> 16\nThreading name ->: Thread-17 Worker -> 17\nThreading name ->: Thread-16 Worker -> 18\nThreading name ->: Thread-25 Worker -> 19\nEntire job took: 1.0447580814361572\n"
     ]
    }
   ],
   "source": [
    "# how many threads are we going to allow for\n",
    "# 1 thread por symbols/contract\n",
    "for x in range(10):\n",
    "     t = threading.Thread(target=threader)\n",
    "\n",
    "     # classifying as a daemon, so they will die when the main dies\n",
    "     t.daemon = True\n",
    "\n",
    "     # begins, must come after daemon definition\n",
    "     t.start()\n",
    "\n",
    "start = time.time()\n",
    "\n",
    "# 20 jobs assigned.\n",
    "for worker in range(20):\n",
    "    q.put(worker)\n",
    "\n",
    "# wait until the thread terminates.\n",
    "q.join()\n",
    "\n",
    "# with 10 workers and 20 tasks, with each task being .5 seconds, then the completed job\n",
    "# is ~1 second using threading. Normally 20 tasks with .5 seconds each would take 10 seconds.\n",
    "print('Entire job took:',time.time() - start)"
   ]
  },
  {
   "cell_type": "code",
   "execution_count": null,
   "metadata": {},
   "outputs": [],
   "source": []
  }
 ],
 "metadata": {
  "kernelspec": {
   "display_name": "Python 2",
   "language": "python",
   "name": "python2"
  },
  "language_info": {
   "codemirror_mode": {
    "name": "ipython",
    "version": 2
   },
   "file_extension": ".py",
   "mimetype": "text/x-python",
   "name": "python",
   "nbconvert_exporter": "python",
   "pygments_lexer": "ipython2",
   "version": "2.7.6"
  }
 },
 "nbformat": 4,
 "nbformat_minor": 0
}
