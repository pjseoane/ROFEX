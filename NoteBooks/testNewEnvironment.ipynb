{
 "cells": [
  {
   "cell_type": "code",
   "execution_count": 1,
   "metadata": {
    "collapsed": true
   },
   "outputs": [],
   "source": [
    "from Classes import cSuscript as sus"
   ]
  },
  {
   "cell_type": "code",
   "execution_count": 2,
   "metadata": {},
   "outputs": [],
   "source": [
    "#prog1=env.cEnvironment(\"pjseoane232\",\"AiZkiC5#\",\"REM232\")\n"
   ]
  },
  {
   "cell_type": "code",
   "execution_count": 20,
   "metadata": {},
   "outputs": [
    {
     "name": "stdout",
     "output_type": "stream",
     "text": [
      "login() OK ---> Yjzu8oRiOnmXNpsjvBvcGWnmDKoZ4rG0wOiSIJ7DEI8=\n"
     ]
    },
    {
     "name": "stdout",
     "output_type": "stream",
     "text": [
      "WS Conection Open...\n"
     ]
    },
    {
     "name": "stdout",
     "output_type": "stream",
     "text": [
      "Sent Suscription msg DODic18\nReceiving...\n"
     ]
    },
    {
     "name": "stdout",
     "output_type": "stream",
     "text": [
      "Pasa por msg MD: \n {'type': 'Md', 'timestamp': 1542676269617, 'instrumentId': {'marketId': 'ROFX', 'symbol': 'DODic18'}, 'marketData': {'OF': [{'price': 37.17, 'size': 17}], 'BI': [{'price': 37.13, 'size': 13}]}}\nMD Array : [[1542676269617, 'DODic18', 37.13, 13, 37.17, 17]]\n"
     ]
    },
    {
     "name": "stdout",
     "output_type": "stream",
     "text": [
      "login() OK ---> Yjzu8oRiOnmXNpsjvBvcGWnmDKoZ4rG0wOiSIJ7DEI8=\n"
     ]
    },
    {
     "name": "stdout",
     "output_type": "stream",
     "text": [
      "WS Conection Open...\n"
     ]
    },
    {
     "name": "stdout",
     "output_type": "stream",
     "text": [
      "Sent Suscription msg RFX20Dic18\nReceiving...\n"
     ]
    },
    {
     "name": "stdout",
     "output_type": "stream",
     "text": [
      "Pasa por msg MD: \n {'type': 'Md', 'timestamp': 1542676272032, 'instrumentId': {'marketId': 'ROFX', 'symbol': 'RFX20Dic18'}, 'marketData': {'OF': [{'price': 42008, 'size': 5}], 'BI': [{'price': 39000, 'size': 5}]}}\nMD Array : [[1542676272032, 'RFX20Dic18', 39000, 5, 42008, 5]]\n"
     ]
    }
   ],
   "source": [
    "s1=sus.cSuscriptSymbol(\"pjseoane232\",\"AiZkiC5#\",\"REM232\",[\"DODic18\"])\n",
    "s2=sus.cSuscriptSymbol(\"pjseoane232\",\"AiZkiC5#\",\"REM232\",[\"RFX20Dic18\"])"
   ]
  },
  {
   "cell_type": "code",
   "execution_count": 24,
   "metadata": {},
   "outputs": [
    {
     "data": {
      "text/plain": [
       "{'status': 'OK',\n 'order': {'clientId': '281236439334516', 'proprietary': 'PBCP'}}"
      ]
     },
     "execution_count": 24,
     "metadata": {},
     "output_type": "execute_result"
    },
    {
     "name": "stdout",
     "output_type": "stream",
     "text": [
      "Pasa por msg MD: \n {'type': 'Md', 'timestamp': 1542676439276, 'instrumentId': {'marketId': 'ROFX', 'symbol': 'DODic18'}, 'marketData': {'OF': [{'price': 37.17, 'size': 17}], 'BI': [{'price': 37.14, 'size': 14}]}}\nMD Array :"
     ]
    }
   ],
   "source": [
    "s1.newSingleOrder(\"ROFX\",\"DoDic18\",\"37.14\",\"14\",\"LIMIT\",\"BUY\",\"DAY\",\"REM232\",\"True\")\n"
   ]
  },
  {
   "cell_type": "code",
   "execution_count": 22,
   "metadata": {},
   "outputs": [
    {
     "data": {
      "text/plain": [
       "{'status': 'OK',\n 'order': {'clientId': '281236343334494', 'proprietary': 'PBCP'}}"
      ]
     },
     "execution_count": 22,
     "metadata": {},
     "output_type": "execute_result"
    },
    {
     "name": "stdout",
     "output_type": "stream",
     "text": [
      "Pasa por msg MD: \n {'type': 'Md', 'timestamp': 1542676343017, 'instrumentId': {'marketId': 'ROFX', 'symbol': 'RFX20Dic18'}, 'marketData': {'OF': [{'price': 42008, 'size': 5}], 'BI': [{'price': 39002, 'size': 6}]}}\nMD Array : [[1542676272032, 'RFX20Dic18', 39000, 5, 42008, 5], [1542676343017, 'RFX20Dic18', 39002, 6, 42008, 5]]\nPasa por msg MD: \n {'type': 'Md', 'timestamp': 1542676343016, 'instrumentId': {'marketId': 'ROFX', 'symbol': 'RFX20Dic18'}, 'marketData': {'OF': [{'price': 42008, 'size': 5}], 'BI': [{'price': 39002, 'size': 6}]}}\nMD Array : [[1542676157462, 'DODic18', 37.13, 13, 37.17, 17], [1542676158440, 'RFX20Dic18', 39000, 5, 42008, 5], [1542676343016, 'RFX20Dic18', 39002, 6, 42008, 5]]\nPasa por msg MD: \n {'type': 'Md', 'timestamp': 1542676343016, 'instrumentId': {'marketId': 'ROFX', 'symbol': 'RFX20Dic18'}, 'marketData': {'OF': [{'price': 42008, 'size': 5}], 'BI': [{'price': 39002, 'size': 6}]}}\nMD Array : [[1542674675442, 'DODic18', 37.13, 13, 37.17, 17], [1542674676443, 'RFX20Dic18', 0, 0, 42009, 9], [1542674893463, 'RFX20Dic18', 0, 0, 42008, 5], [1542675197609, 'RFX20Dic18', 39000, 5, 42008, 5], [1542676343016, 'RFX20Dic18', 39002, 6, 42008, 5]]\n"
     ]
    }
   ],
   "source": [
    "s2.newSingleOrder(\"ROFX\",\"RFX20Dic18\",\"39002\",\"6\",\"LIMIT\",\"BUY\",\"DAY\",\"REM232\",\"True\")"
   ]
  },
  {
   "cell_type": "code",
   "execution_count": 25,
   "metadata": {},
   "outputs": [
    {
     "name": "stdout",
     "output_type": "stream",
     "text": [
      "[1542676439277, 'DODic18', 37.14, 14, 37.17, 17]\n[1542676343017, 'RFX20Dic18', 39002, 6, 42008, 5]\n"
     ]
    }
   ],
   "source": [
    "print (s1.md[-1])\n",
    "print (s2.md[-1])\n",
    "#print(s1.messages)"
   ]
  },
  {
   "cell_type": "code",
   "execution_count": 16,
   "metadata": {},
   "outputs": [
    {
     "data": {
      "text/plain": [
       "{'status': 'OK',\n 'orders': [{'orderId': '51112358',\n   'clOrdId': '281223807333946',\n   'proprietary': 'PBCP',\n   'execId': '181119063635-fix1-125519',\n   'accountId': {'id': 'REM232'},\n   'instrumentId': {'marketId': 'ROFX', 'symbol': 'DODic18'},\n   'price': 37.5,\n   'orderQty': 11,\n   'ordType': 'LIMIT',\n   'side': 'SELL',\n   'timeInForce': 'DAY',\n   'transactTime': '20181119-18:53:28',\n   'avgPx': 0,\n   'lastPx': 0,\n   'lastQty': 0,\n   'cumQty': 0,\n   'leavesQty': 11,\n   'status': 'CANCELLED',\n   'text': 'Reemplazada'},\n  {'orderId': '51112359',\n   'clOrdId': '281224408333956',\n   'proprietary': 'PBCP',\n   'execId': '181119063635-fix1-125523',\n   'accountId': {'id': 'REM232'},\n   'instrumentId': {'marketId': 'ROFX', 'symbol': 'DODic18'},\n   'price': 37.4,\n   'orderQty': 12,\n   'ordType': 'LIMIT',\n   'side': 'SELL',\n   'timeInForce': 'DAY',\n   'transactTime': '20181119-18:53:48',\n   'avgPx': 0,\n   'lastPx': 0,\n   'lastQty': 0,\n   'cumQty': 0,\n   'leavesQty': 12,\n   'status': 'CANCELLED',\n   'text': 'Reemplazada'},\n  {'orderId': '51112360',\n   'clOrdId': '281224428333968',\n   'proprietary': 'PBCP',\n   'execId': '181119063635-fix1-125528',\n   'accountId': {'id': 'REM232'},\n   'instrumentId': {'marketId': 'ROFX', 'symbol': 'DODic18'},\n   'price': 37.4,\n   'orderQty': 12,\n   'ordType': 'LIMIT',\n   'side': 'SELL',\n   'timeInForce': 'DAY',\n   'transactTime': '20181119-18:55:44',\n   'avgPx': 0,\n   'lastPx': 0,\n   'lastQty': 0,\n   'cumQty': 0,\n   'leavesQty': 12,\n   'status': 'CANCELLED',\n   'text': 'Reemplazada'},\n  {'orderId': '51112361',\n   'clOrdId': '281224544333973',\n   'proprietary': 'PBCP',\n   'execId': '181119063635-fix1-125531',\n   'accountId': {'id': 'REM232'},\n   'instrumentId': {'marketId': 'ROFX', 'symbol': 'DODic18'},\n   'price': 37.3,\n   'orderQty': 13,\n   'ordType': 'LIMIT',\n   'side': 'SELL',\n   'timeInForce': 'DAY',\n   'transactTime': '20181119-18:57:23',\n   'avgPx': 0,\n   'lastPx': 0,\n   'lastQty': 0,\n   'cumQty': 0,\n   'leavesQty': 13,\n   'status': 'CANCELLED',\n   'text': 'Reemplazada'},\n  {'orderId': '51112362',\n   'clOrdId': '281224643333977',\n   'proprietary': 'PBCP',\n   'execId': '181119063635-fix1-125535',\n   'accountId': {'id': 'REM232'},\n   'instrumentId': {'marketId': 'ROFX', 'symbol': 'DODic18'},\n   'price': 37.3,\n   'orderQty': 13,\n   'ordType': 'LIMIT',\n   'side': 'SELL',\n   'timeInForce': 'DAY',\n   'transactTime': '20181119-19:08:34',\n   'avgPx': 0,\n   'lastPx': 0,\n   'lastQty': 0,\n   'cumQty': 0,\n   'leavesQty': 13,\n   'status': 'CANCELLED',\n   'text': 'Reemplazada'},\n  {'orderId': '51112364',\n   'clOrdId': '281225368333996',\n   'proprietary': 'PBCP',\n   'execId': '181119063635-fix1-125541',\n   'accountId': {'id': 'REM232'},\n   'instrumentId': {'marketId': 'ROFX', 'symbol': 'DODic18'},\n   'price': 37.02,\n   'orderQty': 13,\n   'ordType': 'LIMIT',\n   'side': 'BUY',\n   'timeInForce': 'DAY',\n   'transactTime': '20181119-19:13:26',\n   'avgPx': 0,\n   'lastPx': 0,\n   'lastQty': 0,\n   'cumQty': 0,\n   'leavesQty': 13,\n   'status': 'CANCELLED',\n   'text': 'Reemplazada'},\n  {'orderId': '51112365',\n   'clOrdId': '281225606334019',\n   'proprietary': 'PBCP',\n   'execId': '181119063635-fix1-125545',\n   'accountId': {'id': 'REM232'},\n   'instrumentId': {'marketId': 'ROFX', 'symbol': 'DODic18'},\n   'price': 37.03,\n   'orderQty': 14,\n   'ordType': 'LIMIT',\n   'side': 'BUY',\n   'timeInForce': 'DAY',\n   'transactTime': '20181119-19:14:00',\n   'avgPx': 0,\n   'lastPx': 0,\n   'lastQty': 0,\n   'cumQty': 0,\n   'leavesQty': 14,\n   'status': 'CANCELLED',\n   'text': 'Reemplazada'},\n  {'orderId': '51112366',\n   'clOrdId': '281225640334026',\n   'proprietary': 'PBCP',\n   'execId': '181119063635-fix1-125550',\n   'accountId': {'id': 'REM232'},\n   'instrumentId': {'marketId': 'ROFX', 'symbol': 'DODic18'},\n   'price': 37.04,\n   'orderQty': 14,\n   'ordType': 'LIMIT',\n   'side': 'BUY',\n   'timeInForce': 'DAY',\n   'transactTime': '20181119-19:18:21',\n   'avgPx': 0,\n   'lastPx': 0,\n   'lastQty': 0,\n   'cumQty': 0,\n   'leavesQty': 14,\n   'status': 'CANCELLED',\n   'text': 'Reemplazada'},\n  {'orderId': '51112367',\n   'clOrdId': '281225901334034',\n   'proprietary': 'PBCP',\n   'execId': '181119063635-fix1-125553',\n   'accountId': {'id': 'REM232'},\n   'instrumentId': {'marketId': 'ROFX', 'symbol': 'DODic18'},\n   'price': 37.05,\n   'orderQty': 15,\n   'ordType': 'LIMIT',\n   'side': 'BUY',\n   'timeInForce': 'DAY',\n   'transactTime': '20181119-19:25:35',\n   'avgPx': 0,\n   'lastPx': 0,\n   'lastQty': 0,\n   'cumQty': 0,\n   'leavesQty': 15,\n   'status': 'CANCELLED',\n   'text': 'Reemplazada'},\n  {'orderId': '51112368',\n   'clOrdId': '281226335334049',\n   'proprietary': 'PBCP',\n   'execId': '181119063635-fix1-125557',\n   'accountId': {'id': 'REM232'},\n   'instrumentId': {'marketId': 'ROFX', 'symbol': 'DODic18'},\n   'price': 37.06,\n   'orderQty': 15,\n   'ordType': 'LIMIT',\n   'side': 'BUY',\n   'timeInForce': 'DAY',\n   'transactTime': '20181119-19:26:07',\n   'avgPx': 0,\n   'lastPx': 0,\n   'lastQty': 0,\n   'cumQty': 0,\n   'leavesQty': 15,\n   'status': 'CANCELLED',\n   'text': 'Reemplazada'},\n  {'orderId': '51112369',\n   'clOrdId': '281226367334063',\n   'proprietary': 'PBCP',\n   'execId': '181119063635-fix1-125562',\n   'accountId': {'id': 'REM232'},\n   'instrumentId': {'marketId': 'ROFX', 'symbol': 'DODic18'},\n   'price': 37.07,\n   'orderQty': 17,\n   'ordType': 'LIMIT',\n   'side': 'BUY',\n   'timeInForce': 'DAY',\n   'transactTime': '20181119-19:29:52',\n   'avgPx': 0,\n   'lastPx': 0,\n   'lastQty': 0,\n   'cumQty': 0,\n   'leavesQty': 17,\n   'status': 'CANCELLED',\n   'text': 'Reemplazada'},\n  {'orderId': '51112370',\n   'clOrdId': '281226592334078',\n   'proprietary': 'PBCP',\n   'execId': '181119063635-fix1-125566',\n   'accountId': {'id': 'REM232'},\n   'instrumentId': {'marketId': 'ROFX', 'symbol': 'DODic18'},\n   'price': 37.07,\n   'orderQty': 17,\n   'ordType': 'LIMIT',\n   'side': 'BUY',\n   'timeInForce': 'DAY',\n   'transactTime': '20181119-19:32:47',\n   'avgPx': 0,\n   'lastPx': 0,\n   'lastQty': 0,\n   'cumQty': 0,\n   'leavesQty': 17,\n   'status': 'CANCELLED',\n   'text': 'Reemplazada'},\n  {'orderId': '51112371',\n   'clOrdId': '281226767334080',\n   'proprietary': 'PBCP',\n   'execId': '181119063635-fix1-125570',\n   'accountId': {'id': 'REM232'},\n   'instrumentId': {'marketId': 'ROFX', 'symbol': 'DODic18'},\n   'price': 37.08,\n   'orderQty': 18,\n   'ordType': 'LIMIT',\n   'side': 'BUY',\n   'timeInForce': 'DAY',\n   'transactTime': '20181119-19:34:50',\n   'avgPx': 0,\n   'lastPx': 0,\n   'lastQty': 0,\n   'cumQty': 0,\n   'leavesQty': 18,\n   'status': 'CANCELLED',\n   'text': 'Reemplazada'},\n  {'orderId': '51112363',\n   'clOrdId': '281225314333982',\n   'proprietary': 'PBCP',\n   'execId': '181119063635-fix1-125574',\n   'accountId': {'id': 'REM232'},\n   'instrumentId': {'marketId': 'ROFX', 'symbol': 'DODic18'},\n   'price': 37.2,\n   'orderQty': 13,\n   'ordType': 'LIMIT',\n   'side': 'SELL',\n   'timeInForce': 'DAY',\n   'transactTime': '20181119-19:35:20',\n   'avgPx': 0,\n   'lastPx': 0,\n   'lastQty': 0,\n   'cumQty': 0,\n   'leavesQty': 13,\n   'status': 'CANCELLED',\n   'text': 'Reemplazada'},\n  {'orderId': '51112373',\n   'clOrdId': '281226920334098',\n   'proprietary': 'PBCP',\n   'execId': '181119063635-fix1-125578',\n   'accountId': {'id': 'REM232'},\n   'instrumentId': {'marketId': 'ROFX', 'symbol': 'DODic18'},\n   'price': 37.19,\n   'orderQty': 19,\n   'ordType': 'LIMIT',\n   'side': 'SELL',\n   'timeInForce': 'DAY',\n   'transactTime': '20181119-19:35:31',\n   'avgPx': 0,\n   'lastPx': 0,\n   'lastQty': 0,\n   'cumQty': 0,\n   'leavesQty': 19,\n   'status': 'CANCELLED',\n   'text': 'Reemplazada'},\n  {'orderId': '51112374',\n   'clOrdId': '281226931334116',\n   'proprietary': 'PBCP',\n   'execId': '181119063635-fix1-125582',\n   'accountId': {'id': 'REM232'},\n   'instrumentId': {'marketId': 'ROFX', 'symbol': 'DODic18'},\n   'price': 37.19,\n   'orderQty': 19,\n   'ordType': 'LIMIT',\n   'side': 'SELL',\n   'timeInForce': 'DAY',\n   'transactTime': '20181119-19:36:00',\n   'avgPx': 0,\n   'lastPx': 0,\n   'lastQty': 0,\n   'cumQty': 0,\n   'leavesQty': 19,\n   'status': 'CANCELLED',\n   'text': 'Reemplazada'},\n  {'orderId': '51112375',\n   'clOrdId': '281226960334125',\n   'proprietary': 'PBCP',\n   'execId': '181119063635-fix1-125586',\n   'accountId': {'id': 'REM232'},\n   'instrumentId': {'marketId': 'ROFX', 'symbol': 'DODic18'},\n   'price': 37.19,\n   'orderQty': 19,\n   'ordType': 'LIMIT',\n   'side': 'SELL',\n   'timeInForce': 'DAY',\n   'transactTime': '20181119-19:50:12',\n   'avgPx': 0,\n   'lastPx': 0,\n   'lastQty': 0,\n   'cumQty': 0,\n   'leavesQty': 19,\n   'status': 'CANCELLED',\n   'text': 'Reemplazada'},\n  {'orderId': '51112372',\n   'clOrdId': '281226890334096',\n   'proprietary': 'PBCP',\n   'execId': '181119063635-fix1-125590',\n   'accountId': {'id': 'REM232'},\n   'instrumentId': {'marketId': 'ROFX', 'symbol': 'DODic18'},\n   'price': 37.09,\n   'orderQty': 19,\n   'ordType': 'LIMIT',\n   'side': 'BUY',\n   'timeInForce': 'DAY',\n   'transactTime': '20181119-19:51:00',\n   'avgPx': 0,\n   'lastPx': 0,\n   'lastQty': 0,\n   'cumQty': 0,\n   'leavesQty': 19,\n   'status': 'CANCELLED',\n   'text': 'Reemplazada'},\n  {'orderId': '51112377',\n   'clOrdId': '281227860334155',\n   'proprietary': 'PBCP',\n   'execId': '181119063635-fix1-125593',\n   'accountId': {'id': 'REM232'},\n   'instrumentId': {'marketId': 'ROFX', 'symbol': 'DODic18'},\n   'price': 37.1,\n   'orderQty': 10,\n   'ordType': 'LIMIT',\n   'side': 'BUY',\n   'timeInForce': 'DAY',\n   'transactTime': '20181119-20:04:02',\n   'avgPx': 0,\n   'lastPx': 0,\n   'lastQty': 0,\n   'cumQty': 0,\n   'leavesQty': 10,\n   'status': 'CANCELLED',\n   'text': 'Reemplazada'},\n  {'orderId': '51112378',\n   'clOrdId': '281228642334177',\n   'proprietary': 'PBCP',\n   'execId': '181119063635-fix1-125596',\n   'accountId': {'id': 'REM232'},\n   'instrumentId': {'marketId': 'ROFX', 'symbol': 'DODic18'},\n   'price': 37.11,\n   'orderQty': 11,\n   'ordType': 'LIMIT',\n   'side': 'BUY',\n   'timeInForce': 'DAY',\n   'transactTime': '20181119-20:51:45',\n   'avgPx': 0,\n   'lastPx': 0,\n   'lastQty': 0,\n   'cumQty': 0,\n   'leavesQty': 11,\n   'status': 'CANCELLED',\n   'text': 'Reemplazada'},\n  {'orderId': 'NONE',\n   'clOrdId': '281231913334205',\n   'proprietary': 'PBCP',\n   'execId': '181119063635-fix1-125597',\n   'accountId': {'id': 'REM232'},\n   'instrumentId': {'marketId': 'ROFX', 'symbol': 'RFX20Dic18'},\n   'price': 42000,\n   'orderQty': 12,\n   'side': 'BUY',\n   'timeInForce': 'DAY',\n   'transactTime': '20181119-20:58:33',\n   'avgPx': 0,\n   'cumQty': 0,\n   'leavesQty': 0,\n   'status': 'REJECTED',\n   'text': 'Precio dinámico inválido, valor máximo: 41,004'},\n  {'orderId': '51112376',\n   'clOrdId': '281227812334145',\n   'proprietary': 'PBCP',\n   'execId': '181119063635-fix1-125608',\n   'accountId': {'id': 'REM232'},\n   'instrumentId': {'marketId': 'ROFX', 'symbol': 'DODic18'},\n   'price': 37.18,\n   'orderQty': 18,\n   'ordType': 'LIMIT',\n   'side': 'SELL',\n   'timeInForce': 'DAY',\n   'transactTime': '20181119-21:05:41',\n   'avgPx': 0,\n   'lastPx': 0,\n   'lastQty': 0,\n   'cumQty': 0,\n   'leavesQty': 18,\n   'status': 'CANCELLED',\n   'text': 'Reemplazada'},\n  {'orderId': 'NONE',\n   'clOrdId': '281232342334241',\n   'proprietary': 'PBCP',\n   'execId': '181119063635-fix1-125609',\n   'accountId': {'id': 'REM232'},\n   'instrumentId': {'marketId': 'ROFX', 'symbol': 'RFX20Dic18'},\n   'price': 42000,\n   'orderQty': 12,\n   'side': 'BUY',\n   'timeInForce': 'DAY',\n   'transactTime': '20181119-21:05:42',\n   'avgPx': 0,\n   'cumQty': 0,\n   'leavesQty': 0,\n   'status': 'REJECTED',\n   'text': 'Precio dinámico inválido, valor máximo: 41,004'},\n  {'orderId': '51112548',\n   'clOrdId': '281232341334228',\n   'proprietary': 'PBCP',\n   'execId': '181119063635-fix1-125611',\n   'accountId': {'id': 'REM232'},\n   'instrumentId': {'marketId': 'ROFX', 'symbol': 'DODic18'},\n   'price': 37.17,\n   'orderQty': 17,\n   'ordType': 'LIMIT',\n   'side': 'SELL',\n   'timeInForce': 'DAY',\n   'transactTime': '20181119-21:08:25',\n   'avgPx': 0,\n   'lastPx': 0,\n   'lastQty': 0,\n   'cumQty': 0,\n   'leavesQty': 17,\n   'status': 'CANCELLED',\n   'text': 'Reemplazada'},\n  {'orderId': 'NONE',\n   'clOrdId': '281232506334265',\n   'proprietary': 'PBCP',\n   'execId': '181119063635-fix1-125612',\n   'accountId': {'id': 'REM232'},\n   'instrumentId': {'marketId': 'ROFX', 'symbol': 'RFX20Dic18'},\n   'price': 42000,\n   'orderQty': 12,\n   'side': 'BUY',\n   'timeInForce': 'DAY',\n   'transactTime': '20181119-21:08:26',\n   'avgPx': 0,\n   'cumQty': 0,\n   'leavesQty': 0,\n   'status': 'REJECTED',\n   'text': 'Precio dinámico inválido, valor máximo: 41,004'},\n  {'orderId': '51112550',\n   'clOrdId': '281232552334267',\n   'proprietary': 'PBCP',\n   'execId': '181119063635-fix1-125613',\n   'accountId': {'id': 'REM232'},\n   'instrumentId': {'marketId': 'ROFX', 'symbol': 'DODic18'},\n   'price': 37.17,\n   'orderQty': 17,\n   'ordType': 'LIMIT',\n   'side': 'SELL',\n   'timeInForce': 'DAY',\n   'transactTime': '20181119-21:09:12',\n   'avgPx': 0,\n   'lastPx': 0,\n   'lastQty': 0,\n   'cumQty': 0,\n   'leavesQty': 17,\n   'status': 'NEW',\n   'text': 'Aceptada '},\n  {'orderId': '51112549',\n   'clOrdId': '281232505334246',\n   'proprietary': 'PBCP',\n   'execId': '181119063635-fix1-125614',\n   'accountId': {'id': 'REM232'},\n   'instrumentId': {'marketId': 'ROFX', 'symbol': 'DODic18'},\n   'price': 37.17,\n   'orderQty': 17,\n   'ordType': 'LIMIT',\n   'side': 'SELL',\n   'timeInForce': 'DAY',\n   'transactTime': '20181119-21:09:12',\n   'avgPx': 0,\n   'lastPx': 0,\n   'lastQty': 0,\n   'cumQty': 0,\n   'leavesQty': 17,\n   'status': 'CANCELLED',\n   'text': 'Reemplazada'},\n  {'orderId': 'NONE',\n   'clOrdId': '281232558334273',\n   'proprietary': 'PBCP',\n   'execId': '181119063635-fix1-125615',\n   'accountId': {'id': 'REM232'},\n   'instrumentId': {'marketId': 'ROFX', 'symbol': 'RFX20Dic18'},\n   'price': 42000,\n   'orderQty': 12,\n   'side': 'BUY',\n   'timeInForce': 'DAY',\n   'transactTime': '20181119-21:09:18',\n   'avgPx': 0,\n   'cumQty': 0,\n   'leavesQty': 0,\n   'status': 'REJECTED',\n   'text': 'Precio dinámico inválido, valor máximo: 41,004'},\n  {'orderId': 'NONE',\n   'clOrdId': '281232971334298',\n   'proprietary': 'PBCP',\n   'execId': '181119063635-fix1-125617',\n   'accountId': {'id': 'REM232'},\n   'instrumentId': {'marketId': 'ROFX', 'symbol': 'RFX20Dic18'},\n   'price': 42000,\n   'orderQty': 10,\n   'side': 'BUY',\n   'timeInForce': 'DAY',\n   'transactTime': '20181119-21:16:11',\n   'avgPx': 0,\n   'cumQty': 0,\n   'leavesQty': 0,\n   'status': 'REJECTED',\n   'text': 'Precio dinámico inválido, valor máximo: 41,004'},\n  {'orderId': 'NONE',\n   'clOrdId': '281232994334311',\n   'proprietary': 'PBCP',\n   'execId': '181119063635-fix1-125618',\n   'accountId': {'id': 'REM232'},\n   'instrumentId': {'marketId': 'ROFX', 'symbol': 'RFX20Dic18'},\n   'price': 42010,\n   'orderQty': 10,\n   'side': 'BUY',\n   'timeInForce': 'DAY',\n   'transactTime': '20181119-21:16:34',\n   'avgPx': 0,\n   'cumQty': 0,\n   'leavesQty': 0,\n   'status': 'REJECTED',\n   'text': 'Precio dinámico inválido, valor máximo: 41,004'},\n  {'orderId': '51112552',\n   'clOrdId': '281233030334334',\n   'proprietary': 'PBCP',\n   'execId': '181119063635-fix1-125619',\n   'accountId': {'id': 'REM232'},\n   'instrumentId': {'marketId': 'ROFX', 'symbol': 'DODic18'},\n   'price': 37.18,\n   'orderQty': 18,\n   'side': 'BUY',\n   'timeInForce': 'DAY',\n   'transactTime': '20181119-21:17:10',\n   'avgPx': 0,\n   'cumQty': 0,\n   'leavesQty': 0,\n   'status': 'REJECTED',\n   'text': 'Misma cuenta'},\n  {'orderId': '51112553',\n   'clOrdId': '281233127334347',\n   'proprietary': 'PBCP',\n   'execId': '181119063635-fix1-125620',\n   'accountId': {'id': 'REM232'},\n   'instrumentId': {'marketId': 'ROFX', 'symbol': 'DODic18'},\n   'price': 37.13,\n   'orderQty': 13,\n   'ordType': 'LIMIT',\n   'side': 'BUY',\n   'timeInForce': 'DAY',\n   'transactTime': '20181119-21:18:47',\n   'avgPx': 0,\n   'lastPx': 0,\n   'lastQty': 0,\n   'cumQty': 0,\n   'leavesQty': 13,\n   'status': 'NEW',\n   'text': 'Aceptada '},\n  {'orderId': '51112379',\n   'clOrdId': '281231505334189',\n   'proprietary': 'PBCP',\n   'execId': '181119063635-fix1-125621',\n   'accountId': {'id': 'REM232'},\n   'instrumentId': {'marketId': 'ROFX', 'symbol': 'DODic18'},\n   'price': 37.12,\n   'orderQty': 12,\n   'ordType': 'LIMIT',\n   'side': 'BUY',\n   'timeInForce': 'DAY',\n   'transactTime': '20181119-21:18:47',\n   'avgPx': 0,\n   'lastPx': 0,\n   'lastQty': 0,\n   'cumQty': 0,\n   'leavesQty': 12,\n   'status': 'CANCELLED',\n   'text': 'Reemplazada'},\n  {'orderId': 'NONE',\n   'clOrdId': '281233173334359',\n   'proprietary': 'PBCP',\n   'execId': '181119063635-fix1-125622',\n   'accountId': {'id': 'REM232'},\n   'instrumentId': {'marketId': 'ROFX', 'symbol': 'RFX20Dic18'},\n   'price': 42010,\n   'orderQty': 10,\n   'side': 'BUY',\n   'timeInForce': 'DAY',\n   'transactTime': '20181119-21:19:33',\n   'avgPx': 0,\n   'cumQty': 0,\n   'leavesQty': 0,\n   'status': 'REJECTED',\n   'text': 'Precio dinámico inválido, valor máximo: 41,004'},\n  {'orderId': '51112551',\n   'clOrdId': '281232933334287',\n   'proprietary': 'PBCP',\n   'execId': '181119063635-fix1-125624',\n   'accountId': {'id': 'REM232'},\n   'instrumentId': {'marketId': 'ROFX', 'symbol': 'RFX20Dic18'},\n   'price': 42050,\n   'orderQty': 12,\n   'ordType': 'LIMIT',\n   'side': 'SELL',\n   'timeInForce': 'DAY',\n   'transactTime': '20181119-21:20:31',\n   'avgPx': 0,\n   'lastPx': 0,\n   'lastQty': 0,\n   'cumQty': 0,\n   'leavesQty': 12,\n   'status': 'CANCELLED',\n   'text': 'Reemplazada'},\n  {'orderId': 'NONE',\n   'clOrdId': '281233743334366',\n   'proprietary': 'PBCP',\n   'execId': '181119063635-fix1-125625',\n   'accountId': {'id': 'REM232'},\n   'instrumentId': {'marketId': 'ROFX', 'symbol': 'RFX20Dic18'},\n   'price': 42000,\n   'orderQty': 5,\n   'side': 'BUY',\n   'timeInForce': 'DAY',\n   'transactTime': '20181119-21:29:03',\n   'avgPx': 0,\n   'cumQty': 0,\n   'leavesQty': 0,\n   'status': 'REJECTED',\n   'text': 'Precio dinámico inválido, valor máximo: 41,004'},\n  {'orderId': 'NONE',\n   'clOrdId': '281233830334388',\n   'proprietary': 'PBCP',\n   'execId': '181119063635-fix1-125626',\n   'accountId': {'id': 'REM232'},\n   'instrumentId': {'marketId': 'ROFX', 'symbol': 'RFX20Dic18'},\n   'price': 42000,\n   'orderQty': 5,\n   'side': 'BUY',\n   'timeInForce': 'DAY',\n   'transactTime': '20181119-21:30:30',\n   'avgPx': 0,\n   'cumQty': 0,\n   'leavesQty': 0,\n   'status': 'REJECTED',\n   'text': 'Precio dinámico inválido, valor máximo: 41,004'},\n  {'orderId': 'NONE',\n   'clOrdId': '281234354334397',\n   'proprietary': 'PBCP',\n   'execId': '181119063635-fix1-125627',\n   'accountId': {'id': 'REM232'},\n   'instrumentId': {'marketId': 'ROFX', 'symbol': 'RFX20Dic18'},\n   'price': 42000,\n   'orderQty': 5,\n   'side': 'BUY',\n   'timeInForce': 'DAY',\n   'transactTime': '20181119-21:39:14',\n   'avgPx': 0,\n   'cumQty': 0,\n   'leavesQty': 0,\n   'status': 'REJECTED',\n   'text': 'Precio dinámico inválido, valor máximo: 41,004'},\n  {'orderId': 'NONE',\n   'clOrdId': '281234408334413',\n   'proprietary': 'PBCP',\n   'execId': '181119063635-fix1-125628',\n   'accountId': {'id': 'REM232'},\n   'instrumentId': {'marketId': 'ROFX', 'symbol': 'RFX20Dic18'},\n   'price': 42000,\n   'orderQty': 5,\n   'side': 'BUY',\n   'timeInForce': 'DAY',\n   'transactTime': '20181119-21:40:08',\n   'avgPx': 0,\n   'cumQty': 0,\n   'leavesQty': 0,\n   'status': 'REJECTED',\n   'text': 'Precio dinámico inválido, valor máximo: 41,004'},\n  {'orderId': 'NONE',\n   'clOrdId': '281234719334438',\n   'proprietary': 'PBCP',\n   'execId': '181119063635-fix1-125629',\n   'accountId': {'id': 'REM232'},\n   'instrumentId': {'marketId': 'ROFX', 'symbol': 'RFX20Dic18'},\n   'price': 42000,\n   'orderQty': 13,\n   'side': 'BUY',\n   'timeInForce': 'DAY',\n   'transactTime': '20181119-21:45:19',\n   'avgPx': 0,\n   'cumQty': 0,\n   'leavesQty': 0,\n   'status': 'REJECTED',\n   'text': 'Precio dinámico inválido, valor máximo: 41,004'},\n  {'orderId': '51112555',\n   'clOrdId': '281234893334448',\n   'proprietary': 'PBCP',\n   'execId': '181119063635-fix1-125630',\n   'accountId': {'id': 'REM232'},\n   'instrumentId': {'marketId': 'ROFX', 'symbol': 'RFX20Dic18'},\n   'price': 42008,\n   'orderQty': 5,\n   'ordType': 'LIMIT',\n   'side': 'SELL',\n   'timeInForce': 'DAY',\n   'transactTime': '20181119-21:48:13',\n   'avgPx': 0,\n   'lastPx': 0,\n   'lastQty': 0,\n   'cumQty': 0,\n   'leavesQty': 5,\n   'status': 'NEW',\n   'text': 'Aceptada '},\n  {'orderId': '51112554',\n   'clOrdId': '281233231334365',\n   'proprietary': 'PBCP',\n   'execId': '181119063635-fix1-125631',\n   'accountId': {'id': 'REM232'},\n   'instrumentId': {'marketId': 'ROFX', 'symbol': 'RFX20Dic18'},\n   'price': 42009,\n   'orderQty': 9,\n   'ordType': 'LIMIT',\n   'side': 'SELL',\n   'timeInForce': 'DAY',\n   'transactTime': '20181119-21:48:13',\n   'avgPx': 0,\n   'lastPx': 0,\n   'lastQty': 0,\n   'cumQty': 0,\n   'leavesQty': 9,\n   'status': 'CANCELLED',\n   'text': 'Reemplazada'},\n  {'orderId': 'NONE',\n   'clOrdId': '281234932334466',\n   'proprietary': 'PBCP',\n   'execId': '181119063635-fix1-125632',\n   'accountId': {'id': 'REM232'},\n   'instrumentId': {'marketId': 'ROFX', 'symbol': 'RFX20Dic18'},\n   'price': 42001,\n   'orderQty': 5,\n   'side': 'BUY',\n   'timeInForce': 'DAY',\n   'transactTime': '20181119-21:48:52',\n   'avgPx': 0,\n   'cumQty': 0,\n   'leavesQty': 0,\n   'status': 'REJECTED',\n   'text': 'Precio dinámico inválido, valor máximo: 41,004'}]}"
      ]
     },
     "execution_count": 16,
     "metadata": {},
     "output_type": "execute_result"
    }
   ],
   "source": [
    "s1.consultarOrdenesAllClientOrder(\"REM232\")"
   ]
  },
  {
   "cell_type": "code",
   "execution_count": 10,
   "metadata": {},
   "outputs": [
    {
     "data": {
      "text/plain": [
       "{'status': 'OK',\n 'orders': [{'orderId': '51112550',\n   'clOrdId': '281232552334267',\n   'proprietary': 'PBCP',\n   'execId': '181119063635-fix1-125613',\n   'accountId': {'id': 'REM232'},\n   'instrumentId': {'marketId': 'ROFX', 'symbol': 'DODic18'},\n   'price': 37.17,\n   'orderQty': 17,\n   'ordType': 'LIMIT',\n   'side': 'SELL',\n   'timeInForce': 'DAY',\n   'transactTime': '20181119-21:09:12',\n   'avgPx': 0,\n   'lastPx': 0,\n   'lastQty': 0,\n   'cumQty': 0,\n   'leavesQty': 17,\n   'status': 'NEW',\n   'text': 'Aceptada '},\n  {'orderId': '51112553',\n   'clOrdId': '281233127334347',\n   'proprietary': 'PBCP',\n   'execId': '181119063635-fix1-125620',\n   'accountId': {'id': 'REM232'},\n   'instrumentId': {'marketId': 'ROFX', 'symbol': 'DODic18'},\n   'price': 37.13,\n   'orderQty': 13,\n   'ordType': 'LIMIT',\n   'side': 'BUY',\n   'timeInForce': 'DAY',\n   'transactTime': '20181119-21:18:47',\n   'avgPx': 0,\n   'lastPx': 0,\n   'lastQty': 0,\n   'cumQty': 0,\n   'leavesQty': 13,\n   'status': 'NEW',\n   'text': 'Aceptada '},\n  {'orderId': '51112554',\n   'clOrdId': '281233231334365',\n   'proprietary': 'PBCP',\n   'execId': '181119063635-fix1-125623',\n   'accountId': {'id': 'REM232'},\n   'instrumentId': {'marketId': 'ROFX', 'symbol': 'RFX20Dic18'},\n   'price': 42009,\n   'orderQty': 9,\n   'ordType': 'LIMIT',\n   'side': 'SELL',\n   'timeInForce': 'DAY',\n   'transactTime': '20181119-21:20:31',\n   'avgPx': 0,\n   'lastPx': 0,\n   'lastQty': 0,\n   'cumQty': 0,\n   'leavesQty': 9,\n   'status': 'NEW',\n   'text': 'Aceptada '}]}"
      ]
     },
     "execution_count": 10,
     "metadata": {},
     "output_type": "execute_result"
    }
   ],
   "source": [
    "s1.consultarOrdenesActivas(\"REM232\")"
   ]
  },
  {
   "cell_type": "code",
   "execution_count": 11,
   "metadata": {},
   "outputs": [
    {
     "data": {
      "text/plain": [
       "{'status': 'OK',\n 'instruments': [{'marketId': 'ROFX', 'symbol': 'DOP 04/05 19'},\n  {'marketId': 'ROFX', 'symbol': 'DONov18 38.00c'},\n  {'marketId': 'ROFX', 'symbol': 'DODic18 42.00p'},\n  {'marketId': 'ROFX', 'symbol': 'DOMay19A'},\n  {'marketId': 'ROFX', 'symbol': 'DOAgo19A'},\n  {'marketId': 'ROFX', 'symbol': 'DODic18 41.00c'},\n  {'marketId': 'ROFX', 'symbol': 'DONov18A'},\n  {'marketId': 'ROFX', 'symbol': 'DODic18 42.00c'},\n  {'marketId': 'ROFX', 'symbol': 'DOP 11/01 18'},\n  {'marketId': 'ROFX', 'symbol': 'DONov18 37.00c'},\n  {'marketId': 'ROFX', 'symbol': 'DODic18 41.00p'},\n  {'marketId': 'ROFX', 'symbol': 'DOEne19A'},\n  {'marketId': 'ROFX', 'symbol': 'DODic18A'},\n  {'marketId': 'ROFX', 'symbol': 'DOFeb19 40.00c'},\n  {'marketId': 'ROFX', 'symbol': 'DOAbr19A'},\n  {'marketId': 'ROFX', 'symbol': 'DODic18 40.00p'},\n  {'marketId': 'ROFX', 'symbol': 'DOMar19'},\n  {'marketId': 'ROFX', 'symbol': 'DOP 02/03 19'},\n  {'marketId': 'ROFX', 'symbol': 'DOFeb19'},\n  {'marketId': 'ROFX', 'symbol': 'DOP 01/02 19'},\n  {'marketId': 'ROFX', 'symbol': 'DONov18 39.00c'},\n  {'marketId': 'ROFX', 'symbol': 'DOJun19A'},\n  {'marketId': 'ROFX', 'symbol': 'DOP 03/04 19'},\n  {'marketId': 'ROFX', 'symbol': 'DOEne19'},\n  {'marketId': 'ROFX', 'symbol': 'DOP 12/01 18'},\n  {'marketId': 'ROFX', 'symbol': 'DOFeb19 37.00c'},\n  {'marketId': 'ROFX', 'symbol': 'DOAgo19'},\n  {'marketId': 'ROFX', 'symbol': 'DOP 11/12 18'},\n  {'marketId': 'ROFX', 'symbol': 'DONov18 34.00p'},\n  {'marketId': 'ROFX', 'symbol': 'DODic18 38.00p'},\n  {'marketId': 'ROFX', 'symbol': 'DODic18 39.00p'},\n  {'marketId': 'ROFX', 'symbol': 'DODic18'},\n  {'marketId': 'ROFX', 'symbol': 'DONov18 35.00p'},\n  {'marketId': 'ROFX', 'symbol': 'DODic18 45.00c'},\n  {'marketId': 'ROFX', 'symbol': 'DOP 05/06 19'},\n  {'marketId': 'ROFX', 'symbol': 'DOFeb19 38.00c'},\n  {'marketId': 'ROFX', 'symbol': 'DOP 11/03 18'},\n  {'marketId': 'ROFX', 'symbol': 'DODic18 37.00p'},\n  {'marketId': 'ROFX', 'symbol': 'DOAbr19'},\n  {'marketId': 'ROFX', 'symbol': 'DONov18 36.00p'},\n  {'marketId': 'ROFX', 'symbol': 'DOFeb19 39.00c'},\n  {'marketId': 'ROFX', 'symbol': 'DODic18 45.00p'},\n  {'marketId': 'ROFX', 'symbol': 'DOOct19A'},\n  {'marketId': 'ROFX', 'symbol': 'DONov18 36.00c'},\n  {'marketId': 'ROFX', 'symbol': 'DODic18 43.00c'},\n  {'marketId': 'ROFX', 'symbol': 'DODic18 44.00p'},\n  {'marketId': 'ROFX', 'symbol': 'DOJul19'},\n  {'marketId': 'ROFX', 'symbol': 'DONov18 33.00p'},\n  {'marketId': 'ROFX', 'symbol': 'DOP 11/02 18'},\n  {'marketId': 'ROFX', 'symbol': 'DOOct19'},\n  {'marketId': 'ROFX', 'symbol': 'DODic18 43.00p'},\n  {'marketId': 'ROFX', 'symbol': 'DOJun19'},\n  {'marketId': 'ROFX', 'symbol': 'DOJul19A'},\n  {'marketId': 'ROFX', 'symbol': 'DOMay19'},\n  {'marketId': 'ROFX', 'symbol': 'DONov18'},\n  {'marketId': 'ROFX', 'symbol': 'DOMar19A'},\n  {'marketId': 'ROFX', 'symbol': 'DOSep19'},\n  {'marketId': 'ROFX', 'symbol': 'DOSep19A'},\n  {'marketId': 'ROFX', 'symbol': 'DODic18 39.00c'},\n  {'marketId': 'ROFX', 'symbol': 'DODic18 44.00c'},\n  {'marketId': 'ROFX', 'symbol': 'DOFeb19A'}]}"
      ]
     },
     "execution_count": 11,
     "metadata": {},
     "output_type": "execute_result"
    }
   ],
   "source": [
    "s1.instrumentsBySegments(\"DDF\")"
   ]
  },
  {
   "cell_type": "code",
   "execution_count": 13,
   "metadata": {},
   "outputs": [
    {
     "data": {
      "text/plain": [
       "{'status': 'OK',\n 'segments': [{'marketSegmentId': 'DDA', 'marketId': 'ROFX'},\n  {'marketSegmentId': 'DDF', 'marketId': 'ROFX'},\n  {'marketSegmentId': 'DUAL', 'marketId': 'ROFX'},\n  {'marketSegmentId': 'TEST', 'marketId': 'ROFX'},\n  {'marketSegmentId': 'MAE', 'marketId': 'ROFX'},\n  {'marketSegmentId': 'MERV', 'marketId': 'ROFX'},\n  {'marketSegmentId': 'MVR', 'marketId': 'ROFX'},\n  {'marketSegmentId': 'MVC', 'marketId': 'ROFX'},\n  {'marketSegmentId': 'MATBA', 'marketId': 'ROFX'},\n  {'marketSegmentId': 'PTPExt', 'marketId': 'ROFX'}]}"
      ]
     },
     "execution_count": 13,
     "metadata": {},
     "output_type": "execute_result"
    }
   ],
   "source": [
    "s1.listaSegmentosDisp()"
   ]
  },
  {
   "cell_type": "code",
   "execution_count": 5,
   "metadata": {},
   "outputs": [],
   "source": [
    "#rog1.instrumentos()"
   ]
  },
  {
   "cell_type": "code",
   "execution_count": 14,
   "metadata": {},
   "outputs": [
    {
     "data": {
      "text/plain": [
       "{'status': 'OK',\n 'instrument': {'segment': {'marketSegmentId': 'DUAL', 'marketId': 'ROFX'},\n  'lowLimitPrice': 36700,\n  'highLimitPrice': 43700,\n  'minPriceIncrement': 1.0,\n  'minTradeVol': 1.0,\n  'maxTradeVol': 1000.0,\n  'tickSize': 1.0,\n  'contractMultiplier': 1.0,\n  'roundLot': 1.0,\n  'priceConvertionFactor': 1.0,\n  'maturityDate': '20181228',\n  'currency': 'ARS',\n  'cficode': 'FXXXSX',\n  'instrumentId': {'marketId': 'ROFX', 'symbol': 'RFX20Dic18'}}}"
      ]
     },
     "execution_count": 14,
     "metadata": {},
     "output_type": "execute_result"
    }
   ],
   "source": [
    "s2.instrumentDetail(\"RFX20DIC18\",\"ROFX\")"
   ]
  },
  {
   "cell_type": "code",
   "execution_count": 11,
   "metadata": {},
   "outputs": [],
   "source": [
    "#prog1.instrumentsBySegments(\"DDF\")"
   ]
  },
  {
   "cell_type": "code",
   "execution_count": 10,
   "metadata": {},
   "outputs": [],
   "source": [
    "#prog1.getMarketDataHistRange(\"ROFX\",\"DODic18\",\"2018-11-01\",\"2018-11-19\")"
   ]
  },
  {
   "cell_type": "code",
   "execution_count": null,
   "metadata": {},
   "outputs": [],
   "source": []
  }
 ],
 "metadata": {
  "kernelspec": {
   "display_name": "Python 2",
   "language": "python",
   "name": "python2"
  },
  "language_info": {
   "codemirror_mode": {
    "name": "ipython",
    "version": 2
   },
   "file_extension": ".py",
   "mimetype": "text/x-python",
   "name": "python",
   "nbconvert_exporter": "python",
   "pygments_lexer": "ipython2",
   "version": "2.7.6"
  }
 },
 "nbformat": 4,
 "nbformat_minor": 0
}
