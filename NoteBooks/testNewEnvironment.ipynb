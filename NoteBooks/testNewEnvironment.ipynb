{
 "cells": [
  {
   "cell_type": "code",
   "execution_count": 1,
   "metadata": {
    "collapsed": true
   },
   "outputs": [],
   "source": [
    "from Classes import cSuscript as sus\n",
    "#rom Classes import cAlgos as alg\n",
    "# Imports for google sheets\n",
    "import gspread\n",
    "from oauth2client.service_account import ServiceAccountCredentials"
   ]
  },
  {
   "cell_type": "code",
   "execution_count": 2,
   "metadata": {},
   "outputs": [
    {
     "name": "stdout",
     "output_type": "stream",
     "text": [
      "Sent Suscription msg DODic18\nReceiving...\n"
     ]
    },
    {
     "name": "stdout",
     "output_type": "stream",
     "text": [
      "En goRobot**-> 1 -- DODic18 --> 0 / 0      0 / 0\n"
     ]
    },
    {
     "name": "stdout",
     "output_type": "stream",
     "text": [
      "Sent Suscription msg RFX20Dic18\nReceiving...\n"
     ]
    },
    {
     "name": "stdout",
     "output_type": "stream",
     "text": [
      "En goRobot**-> 1 -- RFX20Dic18 --> 0 / 0      0 / 0\n"
     ]
    }
   ],
   "source": [
    "s1=sus.cSuscriptSymbol(\"pjseoane232\",\"AiZkiC5#\",\"REM232\",[\"DODic18\"])\n",
    "s2=sus.cSuscriptSymbol(\"pjseoane232\",\"AiZkiC5#\",\"REM232\",[\"RFX20Dic18\"])\n",
    "#work1=sus.cSuscriptSymbol(\"pjseoane232\",\"AiZkiC5#\",\"REM232\",[\"DODic18\",\"RFX20Dic18\"])"
   ]
  },
  {
   "cell_type": "code",
   "execution_count": 5,
   "metadata": {},
   "outputs": [
    {
     "name": "stdout",
     "output_type": "stream",
     "text": [
      "[1542797318626, 'DODic18', 0, 38.45, 0, 45]\n[1542797336955, 'RFX20Dic18', 0, 38408, 0, 58]\n"
     ]
    }
   ],
   "source": [
    "#Last elements of Array (last messages\n",
    "print (s1.md[-1])\n",
    "print (s2.md[-1])\n",
    "#print(work1.md[-1])"
   ]
  },
  {
   "cell_type": "code",
   "execution_count": 7,
   "metadata": {},
   "outputs": [
    {
     "name": "stdout",
     "output_type": "stream",
     "text": [
      "1\n"
     ]
    }
   ],
   "source": [
    "print (s2.id)"
   ]
  },
  {
   "cell_type": "code",
   "execution_count": 5,
   "metadata": {},
   "outputs": [
    {
     "data": {
      "text/plain": [
       "{'status': 'OK',\n 'marketData': {'CL': {'price': 40200, 'size': None, 'date': 1542326400000},\n  'OI': {'price': None, 'size': 9738, 'date': 1542326400000},\n  'OF': [{'price': 38410, 'size': 39}],\n  'BI': [{'price': 38360, 'size': 12}],\n  'LA': {'price': 38399, 'size': 2, 'date': 1542747017012},\n  'OP': 39439,\n  'SE': {'price': 40200, 'size': None, 'date': 1542326400000}},\n 'depth': 1,\n 'aggregated': True}"
      ]
     },
     "execution_count": 5,
     "metadata": {},
     "output_type": "execute_result"
    }
   ],
   "source": [
    "s2.getMarketData(s2.marketId_,s2.symbols[0],\"BI\",\"OF\",\"LA\",\"OP\",\"CL\",\"SE\",\"OI\",\"1\")\n",
    "#work1.getMarketData(work1.marketId_,work1.symbols[1],\"BI\",\"OF\",\"LA\",\"OP\",\"CL\",\"SE\",\"OI\",\"1\")"
   ]
  },
  {
   "cell_type": "code",
   "execution_count": 8,
   "metadata": {},
   "outputs": [
    {
     "data": {
      "text/plain": [
       "{'status': 'OK',\n 'order': {'clientId': '281357549501101', 'proprietary': 'PBCP'}}"
      ]
     },
     "execution_count": 8,
     "metadata": {},
     "output_type": "execute_result"
    }
   ],
   "source": [
    "s1.newSingleOrder(s1.marketId_,s1.symbols[0],\"38.30\",\"4\",\"LIMIT\",\"BUY\",\"DAY\",\"REM232\",\"True\")\n"
   ]
  },
  {
   "cell_type": "code",
   "execution_count": 9,
   "metadata": {},
   "outputs": [
    {
     "data": {
      "text/plain": [
       "{'status': 'OK',\n 'order': {'clientId': '281357595501116', 'proprietary': 'PBCP'}}"
      ]
     },
     "execution_count": 9,
     "metadata": {},
     "output_type": "execute_result"
    }
   ],
   "source": [
    "s2.newSingleOrder(s2.marketId_,s2.symbols[0],\"38300\",\"10\",\"LIMIT\",\"BUY\",\"DAY\",\"REM232\",\"True\")"
   ]
  },
  {
   "cell_type": "code",
   "execution_count": 5,
   "metadata": {},
   "outputs": [
    {
     "data": {
      "text/plain": [
       "{'status': 'OK',\n 'orders': [{'orderId': '51112358',\n   'clOrdId': '281223807333946',\n   'proprietary': 'PBCP',\n   'execId': '181119063635-fix1-125519',\n   'accountId': {'id': 'REM232'},\n   'instrumentId': {'marketId': 'ROFX', 'symbol': 'DODic18'},\n   'price': 37.5,\n   'orderQty': 11,\n   'ordType': 'LIMIT',\n   'side': 'SELL',\n   'timeInForce': 'DAY',\n   'transactTime': '20181119-18:53:28',\n   'avgPx': 0,\n   'lastPx': 0,\n   'lastQty': 0,\n   'cumQty': 0,\n   'leavesQty': 11,\n   'status': 'CANCELLED',\n   'text': 'Reemplazada'},\n  {'orderId': '51112359',\n   'clOrdId': '281224408333956',\n   'proprietary': 'PBCP',\n   'execId': '181119063635-fix1-125523',\n   'accountId': {'id': 'REM232'},\n   'instrumentId': {'marketId': 'ROFX', 'symbol': 'DODic18'},\n   'price': 37.4,\n   'orderQty': 12,\n   'ordType': 'LIMIT',\n   'side': 'SELL',\n   'timeInForce': 'DAY',\n   'transactTime': '20181119-18:53:48',\n   'avgPx': 0,\n   'lastPx': 0,\n   'lastQty': 0,\n   'cumQty': 0,\n   'leavesQty': 12,\n   'status': 'CANCELLED',\n   'text': 'Reemplazada'},\n  {'orderId': '51112360',\n   'clOrdId': '281224428333968',\n   'proprietary': 'PBCP',\n   'execId': '181119063635-fix1-125528',\n   'accountId': {'id': 'REM232'},\n   'instrumentId': {'marketId': 'ROFX', 'symbol': 'DODic18'},\n   'price': 37.4,\n   'orderQty': 12,\n   'ordType': 'LIMIT',\n   'side': 'SELL',\n   'timeInForce': 'DAY',\n   'transactTime': '20181119-18:55:44',\n   'avgPx': 0,\n   'lastPx': 0,\n   'lastQty': 0,\n   'cumQty': 0,\n   'leavesQty': 12,\n   'status': 'CANCELLED',\n   'text': 'Reemplazada'},\n  {'orderId': '51112361',\n   'clOrdId': '281224544333973',\n   'proprietary': 'PBCP',\n   'execId': '181119063635-fix1-125531',\n   'accountId': {'id': 'REM232'},\n   'instrumentId': {'marketId': 'ROFX', 'symbol': 'DODic18'},\n   'price': 37.3,\n   'orderQty': 13,\n   'ordType': 'LIMIT',\n   'side': 'SELL',\n   'timeInForce': 'DAY',\n   'transactTime': '20181119-18:57:23',\n   'avgPx': 0,\n   'lastPx': 0,\n   'lastQty': 0,\n   'cumQty': 0,\n   'leavesQty': 13,\n   'status': 'CANCELLED',\n   'text': 'Reemplazada'},\n  {'orderId': '51112362',\n   'clOrdId': '281224643333977',\n   'proprietary': 'PBCP',\n   'execId': '181119063635-fix1-125535',\n   'accountId': {'id': 'REM232'},\n   'instrumentId': {'marketId': 'ROFX', 'symbol': 'DODic18'},\n   'price': 37.3,\n   'orderQty': 13,\n   'ordType': 'LIMIT',\n   'side': 'SELL',\n   'timeInForce': 'DAY',\n   'transactTime': '20181119-19:08:34',\n   'avgPx': 0,\n   'lastPx': 0,\n   'lastQty': 0,\n   'cumQty': 0,\n   'leavesQty': 13,\n   'status': 'CANCELLED',\n   'text': 'Reemplazada'},\n  {'orderId': '51112364',\n   'clOrdId': '281225368333996',\n   'proprietary': 'PBCP',\n   'execId': '181119063635-fix1-125541',\n   'accountId': {'id': 'REM232'},\n   'instrumentId': {'marketId': 'ROFX', 'symbol': 'DODic18'},\n   'price': 37.02,\n   'orderQty': 13,\n   'ordType': 'LIMIT',\n   'side': 'BUY',\n   'timeInForce': 'DAY',\n   'transactTime': '20181119-19:13:26',\n   'avgPx': 0,\n   'lastPx': 0,\n   'lastQty': 0,\n   'cumQty': 0,\n   'leavesQty': 13,\n   'status': 'CANCELLED',\n   'text': 'Reemplazada'},\n  {'orderId': '51112365',\n   'clOrdId': '281225606334019',\n   'proprietary': 'PBCP',\n   'execId': '181119063635-fix1-125545',\n   'accountId': {'id': 'REM232'},\n   'instrumentId': {'marketId': 'ROFX', 'symbol': 'DODic18'},\n   'price': 37.03,\n   'orderQty': 14,\n   'ordType': 'LIMIT',\n   'side': 'BUY',\n   'timeInForce': 'DAY',\n   'transactTime': '20181119-19:14:00',\n   'avgPx': 0,\n   'lastPx': 0,\n   'lastQty': 0,\n   'cumQty': 0,\n   'leavesQty': 14,\n   'status': 'CANCELLED',\n   'text': 'Reemplazada'},\n  {'orderId': '51112366',\n   'clOrdId': '281225640334026',\n   'proprietary': 'PBCP',\n   'execId': '181119063635-fix1-125550',\n   'accountId': {'id': 'REM232'},\n   'instrumentId': {'marketId': 'ROFX', 'symbol': 'DODic18'},\n   'price': 37.04,\n   'orderQty': 14,\n   'ordType': 'LIMIT',\n   'side': 'BUY',\n   'timeInForce': 'DAY',\n   'transactTime': '20181119-19:18:21',\n   'avgPx': 0,\n   'lastPx': 0,\n   'lastQty': 0,\n   'cumQty': 0,\n   'leavesQty': 14,\n   'status': 'CANCELLED',\n   'text': 'Reemplazada'},\n  {'orderId': '51112367',\n   'clOrdId': '281225901334034',\n   'proprietary': 'PBCP',\n   'execId': '181119063635-fix1-125553',\n   'accountId': {'id': 'REM232'},\n   'instrumentId': {'marketId': 'ROFX', 'symbol': 'DODic18'},\n   'price': 37.05,\n   'orderQty': 15,\n   'ordType': 'LIMIT',\n   'side': 'BUY',\n   'timeInForce': 'DAY',\n   'transactTime': '20181119-19:25:35',\n   'avgPx': 0,\n   'lastPx': 0,\n   'lastQty': 0,\n   'cumQty': 0,\n   'leavesQty': 15,\n   'status': 'CANCELLED',\n   'text': 'Reemplazada'},\n  {'orderId': '51112368',\n   'clOrdId': '281226335334049',\n   'proprietary': 'PBCP',\n   'execId': '181119063635-fix1-125557',\n   'accountId': {'id': 'REM232'},\n   'instrumentId': {'marketId': 'ROFX', 'symbol': 'DODic18'},\n   'price': 37.06,\n   'orderQty': 15,\n   'ordType': 'LIMIT',\n   'side': 'BUY',\n   'timeInForce': 'DAY',\n   'transactTime': '20181119-19:26:07',\n   'avgPx': 0,\n   'lastPx': 0,\n   'lastQty': 0,\n   'cumQty': 0,\n   'leavesQty': 15,\n   'status': 'CANCELLED',\n   'text': 'Reemplazada'},\n  {'orderId': '51112369',\n   'clOrdId': '281226367334063',\n   'proprietary': 'PBCP',\n   'execId': '181119063635-fix1-125562',\n   'accountId': {'id': 'REM232'},\n   'instrumentId': {'marketId': 'ROFX', 'symbol': 'DODic18'},\n   'price': 37.07,\n   'orderQty': 17,\n   'ordType': 'LIMIT',\n   'side': 'BUY',\n   'timeInForce': 'DAY',\n   'transactTime': '20181119-19:29:52',\n   'avgPx': 0,\n   'lastPx': 0,\n   'lastQty': 0,\n   'cumQty': 0,\n   'leavesQty': 17,\n   'status': 'CANCELLED',\n   'text': 'Reemplazada'},\n  {'orderId': '51112370',\n   'clOrdId': '281226592334078',\n   'proprietary': 'PBCP',\n   'execId': '181119063635-fix1-125566',\n   'accountId': {'id': 'REM232'},\n   'instrumentId': {'marketId': 'ROFX', 'symbol': 'DODic18'},\n   'price': 37.07,\n   'orderQty': 17,\n   'ordType': 'LIMIT',\n   'side': 'BUY',\n   'timeInForce': 'DAY',\n   'transactTime': '20181119-19:32:47',\n   'avgPx': 0,\n   'lastPx': 0,\n   'lastQty': 0,\n   'cumQty': 0,\n   'leavesQty': 17,\n   'status': 'CANCELLED',\n   'text': 'Reemplazada'},\n  {'orderId': '51112371',\n   'clOrdId': '281226767334080',\n   'proprietary': 'PBCP',\n   'execId': '181119063635-fix1-125570',\n   'accountId': {'id': 'REM232'},\n   'instrumentId': {'marketId': 'ROFX', 'symbol': 'DODic18'},\n   'price': 37.08,\n   'orderQty': 18,\n   'ordType': 'LIMIT',\n   'side': 'BUY',\n   'timeInForce': 'DAY',\n   'transactTime': '20181119-19:34:50',\n   'avgPx': 0,\n   'lastPx': 0,\n   'lastQty': 0,\n   'cumQty': 0,\n   'leavesQty': 18,\n   'status': 'CANCELLED',\n   'text': 'Reemplazada'},\n  {'orderId': '51112363',\n   'clOrdId': '281225314333982',\n   'proprietary': 'PBCP',\n   'execId': '181119063635-fix1-125574',\n   'accountId': {'id': 'REM232'},\n   'instrumentId': {'marketId': 'ROFX', 'symbol': 'DODic18'},\n   'price': 37.2,\n   'orderQty': 13,\n   'ordType': 'LIMIT',\n   'side': 'SELL',\n   'timeInForce': 'DAY',\n   'transactTime': '20181119-19:35:20',\n   'avgPx': 0,\n   'lastPx': 0,\n   'lastQty': 0,\n   'cumQty': 0,\n   'leavesQty': 13,\n   'status': 'CANCELLED',\n   'text': 'Reemplazada'},\n  {'orderId': '51112373',\n   'clOrdId': '281226920334098',\n   'proprietary': 'PBCP',\n   'execId': '181119063635-fix1-125578',\n   'accountId': {'id': 'REM232'},\n   'instrumentId': {'marketId': 'ROFX', 'symbol': 'DODic18'},\n   'price': 37.19,\n   'orderQty': 19,\n   'ordType': 'LIMIT',\n   'side': 'SELL',\n   'timeInForce': 'DAY',\n   'transactTime': '20181119-19:35:31',\n   'avgPx': 0,\n   'lastPx': 0,\n   'lastQty': 0,\n   'cumQty': 0,\n   'leavesQty': 19,\n   'status': 'CANCELLED',\n   'text': 'Reemplazada'},\n  {'orderId': '51112374',\n   'clOrdId': '281226931334116',\n   'proprietary': 'PBCP',\n   'execId': '181119063635-fix1-125582',\n   'accountId': {'id': 'REM232'},\n   'instrumentId': {'marketId': 'ROFX', 'symbol': 'DODic18'},\n   'price': 37.19,\n   'orderQty': 19,\n   'ordType': 'LIMIT',\n   'side': 'SELL',\n   'timeInForce': 'DAY',\n   'transactTime': '20181119-19:36:00',\n   'avgPx': 0,\n   'lastPx': 0,\n   'lastQty': 0,\n   'cumQty': 0,\n   'leavesQty': 19,\n   'status': 'CANCELLED',\n   'text': 'Reemplazada'},\n  {'orderId': '51112375',\n   'clOrdId': '281226960334125',\n   'proprietary': 'PBCP',\n   'execId': '181119063635-fix1-125586',\n   'accountId': {'id': 'REM232'},\n   'instrumentId': {'marketId': 'ROFX', 'symbol': 'DODic18'},\n   'price': 37.19,\n   'orderQty': 19,\n   'ordType': 'LIMIT',\n   'side': 'SELL',\n   'timeInForce': 'DAY',\n   'transactTime': '20181119-19:50:12',\n   'avgPx': 0,\n   'lastPx': 0,\n   'lastQty': 0,\n   'cumQty': 0,\n   'leavesQty': 19,\n   'status': 'CANCELLED',\n   'text': 'Reemplazada'},\n  {'orderId': '51112372',\n   'clOrdId': '281226890334096',\n   'proprietary': 'PBCP',\n   'execId': '181119063635-fix1-125590',\n   'accountId': {'id': 'REM232'},\n   'instrumentId': {'marketId': 'ROFX', 'symbol': 'DODic18'},\n   'price': 37.09,\n   'orderQty': 19,\n   'ordType': 'LIMIT',\n   'side': 'BUY',\n   'timeInForce': 'DAY',\n   'transactTime': '20181119-19:51:00',\n   'avgPx': 0,\n   'lastPx': 0,\n   'lastQty': 0,\n   'cumQty': 0,\n   'leavesQty': 19,\n   'status': 'CANCELLED',\n   'text': 'Reemplazada'},\n  {'orderId': '51112377',\n   'clOrdId': '281227860334155',\n   'proprietary': 'PBCP',\n   'execId': '181119063635-fix1-125593',\n   'accountId': {'id': 'REM232'},\n   'instrumentId': {'marketId': 'ROFX', 'symbol': 'DODic18'},\n   'price': 37.1,\n   'orderQty': 10,\n   'ordType': 'LIMIT',\n   'side': 'BUY',\n   'timeInForce': 'DAY',\n   'transactTime': '20181119-20:04:02',\n   'avgPx': 0,\n   'lastPx': 0,\n   'lastQty': 0,\n   'cumQty': 0,\n   'leavesQty': 10,\n   'status': 'CANCELLED',\n   'text': 'Reemplazada'},\n  {'orderId': '51112378',\n   'clOrdId': '281228642334177',\n   'proprietary': 'PBCP',\n   'execId': '181119063635-fix1-125596',\n   'accountId': {'id': 'REM232'},\n   'instrumentId': {'marketId': 'ROFX', 'symbol': 'DODic18'},\n   'price': 37.11,\n   'orderQty': 11,\n   'ordType': 'LIMIT',\n   'side': 'BUY',\n   'timeInForce': 'DAY',\n   'transactTime': '20181119-20:51:45',\n   'avgPx': 0,\n   'lastPx': 0,\n   'lastQty': 0,\n   'cumQty': 0,\n   'leavesQty': 11,\n   'status': 'CANCELLED',\n   'text': 'Reemplazada'},\n  {'orderId': 'NONE',\n   'clOrdId': '281231913334205',\n   'proprietary': 'PBCP',\n   'execId': '181119063635-fix1-125597',\n   'accountId': {'id': 'REM232'},\n   'instrumentId': {'marketId': 'ROFX', 'symbol': 'RFX20Dic18'},\n   'price': 42000,\n   'orderQty': 12,\n   'side': 'BUY',\n   'timeInForce': 'DAY',\n   'transactTime': '20181119-20:58:33',\n   'avgPx': 0,\n   'cumQty': 0,\n   'leavesQty': 0,\n   'status': 'REJECTED',\n   'text': 'Precio dinámico inválido, valor máximo: 41,004'},\n  {'orderId': '51112376',\n   'clOrdId': '281227812334145',\n   'proprietary': 'PBCP',\n   'execId': '181119063635-fix1-125608',\n   'accountId': {'id': 'REM232'},\n   'instrumentId': {'marketId': 'ROFX', 'symbol': 'DODic18'},\n   'price': 37.18,\n   'orderQty': 18,\n   'ordType': 'LIMIT',\n   'side': 'SELL',\n   'timeInForce': 'DAY',\n   'transactTime': '20181119-21:05:41',\n   'avgPx': 0,\n   'lastPx': 0,\n   'lastQty': 0,\n   'cumQty': 0,\n   'leavesQty': 18,\n   'status': 'CANCELLED',\n   'text': 'Reemplazada'},\n  {'orderId': 'NONE',\n   'clOrdId': '281232342334241',\n   'proprietary': 'PBCP',\n   'execId': '181119063635-fix1-125609',\n   'accountId': {'id': 'REM232'},\n   'instrumentId': {'marketId': 'ROFX', 'symbol': 'RFX20Dic18'},\n   'price': 42000,\n   'orderQty': 12,\n   'side': 'BUY',\n   'timeInForce': 'DAY',\n   'transactTime': '20181119-21:05:42',\n   'avgPx': 0,\n   'cumQty': 0,\n   'leavesQty': 0,\n   'status': 'REJECTED',\n   'text': 'Precio dinámico inválido, valor máximo: 41,004'},\n  {'orderId': '51112548',\n   'clOrdId': '281232341334228',\n   'proprietary': 'PBCP',\n   'execId': '181119063635-fix1-125611',\n   'accountId': {'id': 'REM232'},\n   'instrumentId': {'marketId': 'ROFX', 'symbol': 'DODic18'},\n   'price': 37.17,\n   'orderQty': 17,\n   'ordType': 'LIMIT',\n   'side': 'SELL',\n   'timeInForce': 'DAY',\n   'transactTime': '20181119-21:08:25',\n   'avgPx': 0,\n   'lastPx': 0,\n   'lastQty': 0,\n   'cumQty': 0,\n   'leavesQty': 17,\n   'status': 'CANCELLED',\n   'text': 'Reemplazada'},\n  {'orderId': 'NONE',\n   'clOrdId': '281232506334265',\n   'proprietary': 'PBCP',\n   'execId': '181119063635-fix1-125612',\n   'accountId': {'id': 'REM232'},\n   'instrumentId': {'marketId': 'ROFX', 'symbol': 'RFX20Dic18'},\n   'price': 42000,\n   'orderQty': 12,\n   'side': 'BUY',\n   'timeInForce': 'DAY',\n   'transactTime': '20181119-21:08:26',\n   'avgPx': 0,\n   'cumQty': 0,\n   'leavesQty': 0,\n   'status': 'REJECTED',\n   'text': 'Precio dinámico inválido, valor máximo: 41,004'},\n  {'orderId': '51112549',\n   'clOrdId': '281232505334246',\n   'proprietary': 'PBCP',\n   'execId': '181119063635-fix1-125614',\n   'accountId': {'id': 'REM232'},\n   'instrumentId': {'marketId': 'ROFX', 'symbol': 'DODic18'},\n   'price': 37.17,\n   'orderQty': 17,\n   'ordType': 'LIMIT',\n   'side': 'SELL',\n   'timeInForce': 'DAY',\n   'transactTime': '20181119-21:09:12',\n   'avgPx': 0,\n   'lastPx': 0,\n   'lastQty': 0,\n   'cumQty': 0,\n   'leavesQty': 17,\n   'status': 'CANCELLED',\n   'text': 'Reemplazada'},\n  {'orderId': 'NONE',\n   'clOrdId': '281232558334273',\n   'proprietary': 'PBCP',\n   'execId': '181119063635-fix1-125615',\n   'accountId': {'id': 'REM232'},\n   'instrumentId': {'marketId': 'ROFX', 'symbol': 'RFX20Dic18'},\n   'price': 42000,\n   'orderQty': 12,\n   'side': 'BUY',\n   'timeInForce': 'DAY',\n   'transactTime': '20181119-21:09:18',\n   'avgPx': 0,\n   'cumQty': 0,\n   'leavesQty': 0,\n   'status': 'REJECTED',\n   'text': 'Precio dinámico inválido, valor máximo: 41,004'},\n  {'orderId': 'NONE',\n   'clOrdId': '281232971334298',\n   'proprietary': 'PBCP',\n   'execId': '181119063635-fix1-125617',\n   'accountId': {'id': 'REM232'},\n   'instrumentId': {'marketId': 'ROFX', 'symbol': 'RFX20Dic18'},\n   'price': 42000,\n   'orderQty': 10,\n   'side': 'BUY',\n   'timeInForce': 'DAY',\n   'transactTime': '20181119-21:16:11',\n   'avgPx': 0,\n   'cumQty': 0,\n   'leavesQty': 0,\n   'status': 'REJECTED',\n   'text': 'Precio dinámico inválido, valor máximo: 41,004'},\n  {'orderId': 'NONE',\n   'clOrdId': '281232994334311',\n   'proprietary': 'PBCP',\n   'execId': '181119063635-fix1-125618',\n   'accountId': {'id': 'REM232'},\n   'instrumentId': {'marketId': 'ROFX', 'symbol': 'RFX20Dic18'},\n   'price': 42010,\n   'orderQty': 10,\n   'side': 'BUY',\n   'timeInForce': 'DAY',\n   'transactTime': '20181119-21:16:34',\n   'avgPx': 0,\n   'cumQty': 0,\n   'leavesQty': 0,\n   'status': 'REJECTED',\n   'text': 'Precio dinámico inválido, valor máximo: 41,004'},\n  {'orderId': '51112552',\n   'clOrdId': '281233030334334',\n   'proprietary': 'PBCP',\n   'execId': '181119063635-fix1-125619',\n   'accountId': {'id': 'REM232'},\n   'instrumentId': {'marketId': 'ROFX', 'symbol': 'DODic18'},\n   'price': 37.18,\n   'orderQty': 18,\n   'side': 'BUY',\n   'timeInForce': 'DAY',\n   'transactTime': '20181119-21:17:10',\n   'avgPx': 0,\n   'cumQty': 0,\n   'leavesQty': 0,\n   'status': 'REJECTED',\n   'text': 'Misma cuenta'},\n  {'orderId': '51112379',\n   'clOrdId': '281231505334189',\n   'proprietary': 'PBCP',\n   'execId': '181119063635-fix1-125621',\n   'accountId': {'id': 'REM232'},\n   'instrumentId': {'marketId': 'ROFX', 'symbol': 'DODic18'},\n   'price': 37.12,\n   'orderQty': 12,\n   'ordType': 'LIMIT',\n   'side': 'BUY',\n   'timeInForce': 'DAY',\n   'transactTime': '20181119-21:18:47',\n   'avgPx': 0,\n   'lastPx': 0,\n   'lastQty': 0,\n   'cumQty': 0,\n   'leavesQty': 12,\n   'status': 'CANCELLED',\n   'text': 'Reemplazada'},\n  {'orderId': 'NONE',\n   'clOrdId': '281233173334359',\n   'proprietary': 'PBCP',\n   'execId': '181119063635-fix1-125622',\n   'accountId': {'id': 'REM232'},\n   'instrumentId': {'marketId': 'ROFX', 'symbol': 'RFX20Dic18'},\n   'price': 42010,\n   'orderQty': 10,\n   'side': 'BUY',\n   'timeInForce': 'DAY',\n   'transactTime': '20181119-21:19:33',\n   'avgPx': 0,\n   'cumQty': 0,\n   'leavesQty': 0,\n   'status': 'REJECTED',\n   'text': 'Precio dinámico inválido, valor máximo: 41,004'},\n  {'orderId': '51112551',\n   'clOrdId': '281232933334287',\n   'proprietary': 'PBCP',\n   'execId': '181119063635-fix1-125624',\n   'accountId': {'id': 'REM232'},\n   'instrumentId': {'marketId': 'ROFX', 'symbol': 'RFX20Dic18'},\n   'price': 42050,\n   'orderQty': 12,\n   'ordType': 'LIMIT',\n   'side': 'SELL',\n   'timeInForce': 'DAY',\n   'transactTime': '20181119-21:20:31',\n   'avgPx': 0,\n   'lastPx': 0,\n   'lastQty': 0,\n   'cumQty': 0,\n   'leavesQty': 12,\n   'status': 'CANCELLED',\n   'text': 'Reemplazada'},\n  {'orderId': 'NONE',\n   'clOrdId': '281233743334366',\n   'proprietary': 'PBCP',\n   'execId': '181119063635-fix1-125625',\n   'accountId': {'id': 'REM232'},\n   'instrumentId': {'marketId': 'ROFX', 'symbol': 'RFX20Dic18'},\n   'price': 42000,\n   'orderQty': 5,\n   'side': 'BUY',\n   'timeInForce': 'DAY',\n   'transactTime': '20181119-21:29:03',\n   'avgPx': 0,\n   'cumQty': 0,\n   'leavesQty': 0,\n   'status': 'REJECTED',\n   'text': 'Precio dinámico inválido, valor máximo: 41,004'},\n  {'orderId': 'NONE',\n   'clOrdId': '281233830334388',\n   'proprietary': 'PBCP',\n   'execId': '181119063635-fix1-125626',\n   'accountId': {'id': 'REM232'},\n   'instrumentId': {'marketId': 'ROFX', 'symbol': 'RFX20Dic18'},\n   'price': 42000,\n   'orderQty': 5,\n   'side': 'BUY',\n   'timeInForce': 'DAY',\n   'transactTime': '20181119-21:30:30',\n   'avgPx': 0,\n   'cumQty': 0,\n   'leavesQty': 0,\n   'status': 'REJECTED',\n   'text': 'Precio dinámico inválido, valor máximo: 41,004'},\n  {'orderId': 'NONE',\n   'clOrdId': '281234354334397',\n   'proprietary': 'PBCP',\n   'execId': '181119063635-fix1-125627',\n   'accountId': {'id': 'REM232'},\n   'instrumentId': {'marketId': 'ROFX', 'symbol': 'RFX20Dic18'},\n   'price': 42000,\n   'orderQty': 5,\n   'side': 'BUY',\n   'timeInForce': 'DAY',\n   'transactTime': '20181119-21:39:14',\n   'avgPx': 0,\n   'cumQty': 0,\n   'leavesQty': 0,\n   'status': 'REJECTED',\n   'text': 'Precio dinámico inválido, valor máximo: 41,004'},\n  {'orderId': 'NONE',\n   'clOrdId': '281234408334413',\n   'proprietary': 'PBCP',\n   'execId': '181119063635-fix1-125628',\n   'accountId': {'id': 'REM232'},\n   'instrumentId': {'marketId': 'ROFX', 'symbol': 'RFX20Dic18'},\n   'price': 42000,\n   'orderQty': 5,\n   'side': 'BUY',\n   'timeInForce': 'DAY',\n   'transactTime': '20181119-21:40:08',\n   'avgPx': 0,\n   'cumQty': 0,\n   'leavesQty': 0,\n   'status': 'REJECTED',\n   'text': 'Precio dinámico inválido, valor máximo: 41,004'},\n  {'orderId': 'NONE',\n   'clOrdId': '281234719334438',\n   'proprietary': 'PBCP',\n   'execId': '181119063635-fix1-125629',\n   'accountId': {'id': 'REM232'},\n   'instrumentId': {'marketId': 'ROFX', 'symbol': 'RFX20Dic18'},\n   'price': 42000,\n   'orderQty': 13,\n   'side': 'BUY',\n   'timeInForce': 'DAY',\n   'transactTime': '20181119-21:45:19',\n   'avgPx': 0,\n   'cumQty': 0,\n   'leavesQty': 0,\n   'status': 'REJECTED',\n   'text': 'Precio dinámico inválido, valor máximo: 41,004'},\n  {'orderId': '51112554',\n   'clOrdId': '281233231334365',\n   'proprietary': 'PBCP',\n   'execId': '181119063635-fix1-125631',\n   'accountId': {'id': 'REM232'},\n   'instrumentId': {'marketId': 'ROFX', 'symbol': 'RFX20Dic18'},\n   'price': 42009,\n   'orderQty': 9,\n   'ordType': 'LIMIT',\n   'side': 'SELL',\n   'timeInForce': 'DAY',\n   'transactTime': '20181119-21:48:13',\n   'avgPx': 0,\n   'lastPx': 0,\n   'lastQty': 0,\n   'cumQty': 0,\n   'leavesQty': 9,\n   'status': 'CANCELLED',\n   'text': 'Reemplazada'},\n  {'orderId': 'NONE',\n   'clOrdId': '281234932334466',\n   'proprietary': 'PBCP',\n   'execId': '181119063635-fix1-125632',\n   'accountId': {'id': 'REM232'},\n   'instrumentId': {'marketId': 'ROFX', 'symbol': 'RFX20Dic18'},\n   'price': 42001,\n   'orderQty': 5,\n   'side': 'BUY',\n   'timeInForce': 'DAY',\n   'transactTime': '20181119-21:48:52',\n   'avgPx': 0,\n   'cumQty': 0,\n   'leavesQty': 0,\n   'status': 'REJECTED',\n   'text': 'Precio dinámico inválido, valor máximo: 41,004'},\n  {'orderId': '51112556',\n   'clOrdId': '281235197334480',\n   'proprietary': 'PBCP',\n   'execId': '181119063635-fix1-125635',\n   'accountId': {'id': 'REM232'},\n   'instrumentId': {'marketId': 'ROFX', 'symbol': 'RFX20Dic18'},\n   'price': 39000,\n   'orderQty': 5,\n   'ordType': 'LIMIT',\n   'side': 'BUY',\n   'timeInForce': 'DAY',\n   'transactTime': '20181119-22:12:23',\n   'avgPx': 0,\n   'lastPx': 0,\n   'lastQty': 0,\n   'cumQty': 0,\n   'leavesQty': 5,\n   'status': 'CANCELLED',\n   'text': 'Reemplazada'},\n  {'orderId': '51112553',\n   'clOrdId': '281233127334347',\n   'proprietary': 'PBCP',\n   'execId': '181119063635-fix1-125637',\n   'accountId': {'id': 'REM232'},\n   'instrumentId': {'marketId': 'ROFX', 'symbol': 'DODic18'},\n   'price': 37.13,\n   'orderQty': 13,\n   'ordType': 'LIMIT',\n   'side': 'BUY',\n   'timeInForce': 'DAY',\n   'transactTime': '20181119-22:13:59',\n   'avgPx': 0,\n   'lastPx': 0,\n   'lastQty': 0,\n   'cumQty': 0,\n   'leavesQty': 13,\n   'status': 'CANCELLED',\n   'text': 'Reemplazada'},\n  {'orderId': '51112558',\n   'clOrdId': '281236439334516',\n   'proprietary': 'PBCP',\n   'execId': '181119063635-fix1-125639',\n   'accountId': {'id': 'REM232'},\n   'instrumentId': {'marketId': 'ROFX', 'symbol': 'DODic18'},\n   'price': 37.14,\n   'orderQty': 14,\n   'ordType': 'LIMIT',\n   'side': 'BUY',\n   'timeInForce': 'DAY',\n   'transactTime': '20181119-22:23:45',\n   'avgPx': 0,\n   'lastPx': 0,\n   'lastQty': 0,\n   'cumQty': 0,\n   'leavesQty': 14,\n   'status': 'CANCELLED',\n   'text': 'Reemplazada'},\n  {'orderId': '51112559',\n   'clOrdId': '281237025334521',\n   'proprietary': 'PBCP',\n   'execId': '181119063635-fix1-125641',\n   'accountId': {'id': 'REM232'},\n   'instrumentId': {'marketId': 'ROFX', 'symbol': 'DODic18'},\n   'price': 37.14,\n   'orderQty': 14,\n   'ordType': 'LIMIT',\n   'side': 'BUY',\n   'timeInForce': 'DAY',\n   'transactTime': '20181119-22:46:01',\n   'avgPx': 0,\n   'lastPx': 0,\n   'lastQty': 0,\n   'cumQty': 0,\n   'leavesQty': 14,\n   'status': 'CANCELLED',\n   'text': 'Reemplazada'},\n  {'orderId': '51112557',\n   'clOrdId': '281236343334494',\n   'proprietary': 'PBCP',\n   'execId': '181119063635-fix1-125643',\n   'accountId': {'id': 'REM232'},\n   'instrumentId': {'marketId': 'ROFX', 'symbol': 'RFX20Dic18'},\n   'price': 39002,\n   'orderQty': 6,\n   'ordType': 'LIMIT',\n   'side': 'BUY',\n   'timeInForce': 'DAY',\n   'transactTime': '20181119-22:47:10',\n   'avgPx': 0,\n   'lastPx': 0,\n   'lastQty': 0,\n   'cumQty': 0,\n   'leavesQty': 6,\n   'status': 'CANCELLED',\n   'text': 'Reemplazada'},\n  {'orderId': '51112561',\n   'clOrdId': '281238430334532',\n   'proprietary': 'PBCP',\n   'execId': '181119063635-fix1-125645',\n   'accountId': {'id': 'REM232'},\n   'instrumentId': {'marketId': 'ROFX', 'symbol': 'RFX20Dic18'},\n   'price': 39003,\n   'orderQty': 7,\n   'ordType': 'LIMIT',\n   'side': 'BUY',\n   'timeInForce': 'DAY',\n   'transactTime': '20181119-22:50:35',\n   'avgPx': 0,\n   'lastPx': 0,\n   'lastQty': 0,\n   'cumQty': 0,\n   'leavesQty': 7,\n   'status': 'CANCELLED',\n   'text': 'Reemplazada'},\n  {'orderId': '51112560',\n   'clOrdId': '281238361334531',\n   'proprietary': 'PBCP',\n   'execId': '181119063635-fix1-125647',\n   'accountId': {'id': 'REM232'},\n   'instrumentId': {'marketId': 'ROFX', 'symbol': 'DODic18'},\n   'price': 37.15,\n   'orderQty': 15,\n   'ordType': 'LIMIT',\n   'side': 'BUY',\n   'timeInForce': 'DAY',\n   'transactTime': '20181119-23:02:21',\n   'avgPx': 0,\n   'lastPx': 0,\n   'lastQty': 0,\n   'cumQty': 0,\n   'leavesQty': 15,\n   'status': 'CANCELLED',\n   'text': 'Reemplazada'},\n  {'orderId': '51112562',\n   'clOrdId': '281238635334551',\n   'proprietary': 'PBCP',\n   'execId': '181119063635-fix1-125649',\n   'accountId': {'id': 'REM232'},\n   'instrumentId': {'marketId': 'ROFX', 'symbol': 'RFX20Dic18'},\n   'price': 39004,\n   'orderQty': 17,\n   'ordType': 'LIMIT',\n   'side': 'BUY',\n   'timeInForce': 'DAY',\n   'transactTime': '20181119-23:02:53',\n   'avgPx': 0,\n   'lastPx': 0,\n   'lastQty': 0,\n   'cumQty': 0,\n   'leavesQty': 17,\n   'status': 'CANCELLED',\n   'text': 'Reemplazada'},\n  {'orderId': '51112564',\n   'clOrdId': '281239373334570',\n   'proprietary': 'PBCP',\n   'execId': '181119063635-fix1-125651',\n   'accountId': {'id': 'REM232'},\n   'instrumentId': {'marketId': 'ROFX', 'symbol': 'RFX20Dic18'},\n   'price': 39005,\n   'orderQty': 17,\n   'ordType': 'LIMIT',\n   'side': 'BUY',\n   'timeInForce': 'DAY',\n   'transactTime': '20181119-23:24:52',\n   'avgPx': 0,\n   'lastPx': 0,\n   'lastQty': 0,\n   'cumQty': 0,\n   'leavesQty': 17,\n   'status': 'CANCELLED',\n   'text': 'Reemplazada'},\n  {'orderId': '51112565',\n   'clOrdId': '281240692334591',\n   'proprietary': 'PBCP',\n   'execId': '181119063635-fix1-125653',\n   'accountId': {'id': 'REM232'},\n   'instrumentId': {'marketId': 'ROFX', 'symbol': 'RFX20Dic18'},\n   'price': 39006,\n   'orderQty': 18,\n   'ordType': 'LIMIT',\n   'side': 'BUY',\n   'timeInForce': 'DAY',\n   'transactTime': '20181119-23:25:10',\n   'avgPx': 0,\n   'lastPx': 0,\n   'lastQty': 0,\n   'cumQty': 0,\n   'leavesQty': 18,\n   'status': 'CANCELLED',\n   'text': 'Reemplazada'},\n  {'orderId': '51112566',\n   'clOrdId': '281240710334604',\n   'proprietary': 'PBCP',\n   'execId': '181119063635-fix1-125655',\n   'accountId': {'id': 'REM232'},\n   'instrumentId': {'marketId': 'ROFX', 'symbol': 'RFX20Dic18'},\n   'price': 39006,\n   'orderQty': 18,\n   'ordType': 'LIMIT',\n   'side': 'BUY',\n   'timeInForce': 'DAY',\n   'transactTime': '20181119-23:26:33',\n   'avgPx': 0,\n   'lastPx': 0,\n   'lastQty': 0,\n   'cumQty': 0,\n   'leavesQty': 18,\n   'status': 'CANCELLED',\n   'text': 'Reemplazada'},\n  {'orderId': '51112563',\n   'clOrdId': '281239341334552',\n   'proprietary': 'PBCP',\n   'execId': '181119063635-fix1-125656',\n   'accountId': {'id': 'REM232'},\n   'instrumentId': {'marketId': 'ROFX', 'symbol': 'DODic18'},\n   'price': 37.16,\n   'orderQty': 16,\n   'ordType': 'LIMIT',\n   'side': 'BUY',\n   'timeInForce': 'DAY',\n   'transactTime': '20181120-00:55:00',\n   'avgPx': 0,\n   'lastPx': 0,\n   'lastQty': 0,\n   'cumQty': 0,\n   'leavesQty': 16,\n   'status': 'EXPIRED',\n   'text': 'Expirada'},\n  {'orderId': '51112550',\n   'clOrdId': '281232552334267',\n   'proprietary': 'PBCP',\n   'execId': '181119063635-fix1-125658',\n   'accountId': {'id': 'REM232'},\n   'instrumentId': {'marketId': 'ROFX', 'symbol': 'DODic18'},\n   'price': 37.17,\n   'orderQty': 17,\n   'ordType': 'LIMIT',\n   'side': 'SELL',\n   'timeInForce': 'DAY',\n   'transactTime': '20181120-00:55:00',\n   'avgPx': 0,\n   'lastPx': 0,\n   'lastQty': 0,\n   'cumQty': 0,\n   'leavesQty': 17,\n   'status': 'EXPIRED',\n   'text': 'Expirada'},\n  {'orderId': '51112567',\n   'clOrdId': '281240793334627',\n   'proprietary': 'PBCP',\n   'execId': '181119063635-fix1-125664',\n   'accountId': {'id': 'REM232'},\n   'instrumentId': {'marketId': 'ROFX', 'symbol': 'RFX20Dic18'},\n   'price': 39007,\n   'orderQty': 19,\n   'ordType': 'LIMIT',\n   'side': 'BUY',\n   'timeInForce': 'DAY',\n   'transactTime': '20181120-00:55:00',\n   'avgPx': 0,\n   'lastPx': 0,\n   'lastQty': 0,\n   'cumQty': 0,\n   'leavesQty': 19,\n   'status': 'EXPIRED',\n   'text': 'Expirada'},\n  {'orderId': '51112555',\n   'clOrdId': '281234893334448',\n   'proprietary': 'PBCP',\n   'execId': '181119063635-fix1-125666',\n   'accountId': {'id': 'REM232'},\n   'instrumentId': {'marketId': 'ROFX', 'symbol': 'RFX20Dic18'},\n   'price': 42008,\n   'orderQty': 5,\n   'ordType': 'LIMIT',\n   'side': 'SELL',\n   'timeInForce': 'DAY',\n   'transactTime': '20181120-00:55:00',\n   'avgPx': 0,\n   'lastPx': 0,\n   'lastQty': 0,\n   'cumQty': 0,\n   'leavesQty': 5,\n   'status': 'EXPIRED',\n   'text': 'Expirada'},\n  {'orderId': '51113001',\n   'clOrdId': '281270482334637',\n   'proprietary': 'PBCP',\n   'execId': '181120063658-fix1-2',\n   'accountId': {'id': 'REM232'},\n   'instrumentId': {'marketId': 'ROFX', 'symbol': 'DODic18'},\n   'price': 37.16,\n   'orderQty': 16,\n   'ordType': 'LIMIT',\n   'side': 'BUY',\n   'timeInForce': 'DAY',\n   'transactTime': '20181120-07:41:22',\n   'avgPx': 0,\n   'lastPx': 0,\n   'lastQty': 0,\n   'cumQty': 0,\n   'leavesQty': 16,\n   'status': 'NEW',\n   'text': 'Aceptada '},\n  {'orderId': '51113002',\n   'clOrdId': '281270485334645',\n   'proprietary': 'PBCP',\n   'execId': '181120063658-fix1-3',\n   'accountId': {'id': 'REM232'},\n   'instrumentId': {'marketId': 'ROFX', 'symbol': 'RFX20Dic18'},\n   'price': 39007,\n   'orderQty': 19,\n   'ordType': 'LIMIT',\n   'side': 'BUY',\n   'timeInForce': 'DAY',\n   'transactTime': '20181120-07:41:25',\n   'avgPx': 0,\n   'lastPx': 0,\n   'lastQty': 0,\n   'cumQty': 0,\n   'leavesQty': 19,\n   'status': 'NEW',\n   'text': 'Aceptada '},\n  {'orderId': '51113003',\n   'clOrdId': '281271471334660',\n   'proprietary': 'PBCP',\n   'execId': '181120063658-fix1-7',\n   'accountId': {'id': 'REM232'},\n   'instrumentId': {'marketId': 'ROFX', 'symbol': 'RFX20Dic18'},\n   'price': 40000,\n   'orderQty': 40,\n   'ordType': 'LIMIT',\n   'side': 'SELL',\n   'timeInForce': 'DAY',\n   'transactTime': '20181120-08:07:56',\n   'avgPx': 0,\n   'lastPx': 0,\n   'lastQty': 0,\n   'cumQty': 0,\n   'leavesQty': 40,\n   'status': 'CANCELLED',\n   'text': 'Reemplazada'},\n  {'orderId': '51113005',\n   'clOrdId': '281272786334666',\n   'proprietary': 'PBCP',\n   'execId': '181120063658-fix1-9',\n   'accountId': {'id': 'REM232'},\n   'instrumentId': {'marketId': 'ROFX', 'symbol': 'RFX20Dic18'},\n   'price': 39998,\n   'orderQty': 39,\n   'ordType': 'LIMIT',\n   'side': 'SELL',\n   'timeInForce': 'DAY',\n   'transactTime': '20181120-08:19:46',\n   'avgPx': 0,\n   'lastPx': 0,\n   'lastQty': 0,\n   'cumQty': 0,\n   'leavesQty': 39,\n   'status': 'NEW',\n   'text': 'Aceptada '},\n  {'orderId': '51113004',\n   'clOrdId': '281272076334662',\n   'proprietary': 'PBCP',\n   'execId': '181120063658-fix1-11',\n   'accountId': {'id': 'REM232'},\n   'instrumentId': {'marketId': 'ROFX', 'symbol': 'RFX20Dic18'},\n   'price': 39999,\n   'orderQty': 40,\n   'ordType': 'LIMIT',\n   'side': 'SELL',\n   'timeInForce': 'DAY',\n   'transactTime': '20181120-08:19:46',\n   'avgPx': 0,\n   'lastPx': 0,\n   'lastQty': 0,\n   'cumQty': 0,\n   'leavesQty': 40,\n   'status': 'CANCELLED',\n   'text': 'Reemplazada'}]}"
      ]
     },
     "execution_count": 5,
     "metadata": {},
     "output_type": "execute_result"
    }
   ],
   "source": [
    "s1.consultarOrdenesAllClientOrder(\"REM232\")"
   ]
  },
  {
   "cell_type": "code",
   "execution_count": 10,
   "metadata": {},
   "outputs": [
    {
     "data": {
      "text/plain": [
       "{'status': 'OK',\n 'orders': [{'orderId': '51112550',\n   'clOrdId': '281232552334267',\n   'proprietary': 'PBCP',\n   'execId': '181119063635-fix1-125613',\n   'accountId': {'id': 'REM232'},\n   'instrumentId': {'marketId': 'ROFX', 'symbol': 'DODic18'},\n   'price': 37.17,\n   'orderQty': 17,\n   'ordType': 'LIMIT',\n   'side': 'SELL',\n   'timeInForce': 'DAY',\n   'transactTime': '20181119-21:09:12',\n   'avgPx': 0,\n   'lastPx': 0,\n   'lastQty': 0,\n   'cumQty': 0,\n   'leavesQty': 17,\n   'status': 'NEW',\n   'text': 'Aceptada '},\n  {'orderId': '51112553',\n   'clOrdId': '281233127334347',\n   'proprietary': 'PBCP',\n   'execId': '181119063635-fix1-125620',\n   'accountId': {'id': 'REM232'},\n   'instrumentId': {'marketId': 'ROFX', 'symbol': 'DODic18'},\n   'price': 37.13,\n   'orderQty': 13,\n   'ordType': 'LIMIT',\n   'side': 'BUY',\n   'timeInForce': 'DAY',\n   'transactTime': '20181119-21:18:47',\n   'avgPx': 0,\n   'lastPx': 0,\n   'lastQty': 0,\n   'cumQty': 0,\n   'leavesQty': 13,\n   'status': 'NEW',\n   'text': 'Aceptada '},\n  {'orderId': '51112554',\n   'clOrdId': '281233231334365',\n   'proprietary': 'PBCP',\n   'execId': '181119063635-fix1-125623',\n   'accountId': {'id': 'REM232'},\n   'instrumentId': {'marketId': 'ROFX', 'symbol': 'RFX20Dic18'},\n   'price': 42009,\n   'orderQty': 9,\n   'ordType': 'LIMIT',\n   'side': 'SELL',\n   'timeInForce': 'DAY',\n   'transactTime': '20181119-21:20:31',\n   'avgPx': 0,\n   'lastPx': 0,\n   'lastQty': 0,\n   'cumQty': 0,\n   'leavesQty': 9,\n   'status': 'NEW',\n   'text': 'Aceptada '}]}"
      ]
     },
     "execution_count": 10,
     "metadata": {},
     "output_type": "execute_result"
    }
   ],
   "source": [
    "s1.consultarOrdenesActivas(\"REM232\")"
   ]
  },
  {
   "cell_type": "code",
   "execution_count": 11,
   "metadata": {},
   "outputs": [
    {
     "data": {
      "text/plain": [
       "{'status': 'OK',\n 'instruments': [{'marketId': 'ROFX', 'symbol': 'DOP 04/05 19'},\n  {'marketId': 'ROFX', 'symbol': 'DONov18 38.00c'},\n  {'marketId': 'ROFX', 'symbol': 'DODic18 42.00p'},\n  {'marketId': 'ROFX', 'symbol': 'DOMay19A'},\n  {'marketId': 'ROFX', 'symbol': 'DOAgo19A'},\n  {'marketId': 'ROFX', 'symbol': 'DODic18 41.00c'},\n  {'marketId': 'ROFX', 'symbol': 'DONov18A'},\n  {'marketId': 'ROFX', 'symbol': 'DODic18 42.00c'},\n  {'marketId': 'ROFX', 'symbol': 'DOP 11/01 18'},\n  {'marketId': 'ROFX', 'symbol': 'DONov18 37.00c'},\n  {'marketId': 'ROFX', 'symbol': 'DODic18 41.00p'},\n  {'marketId': 'ROFX', 'symbol': 'DOEne19A'},\n  {'marketId': 'ROFX', 'symbol': 'DODic18A'},\n  {'marketId': 'ROFX', 'symbol': 'DOFeb19 40.00c'},\n  {'marketId': 'ROFX', 'symbol': 'DOAbr19A'},\n  {'marketId': 'ROFX', 'symbol': 'DODic18 40.00p'},\n  {'marketId': 'ROFX', 'symbol': 'DOMar19'},\n  {'marketId': 'ROFX', 'symbol': 'DOP 02/03 19'},\n  {'marketId': 'ROFX', 'symbol': 'DOFeb19'},\n  {'marketId': 'ROFX', 'symbol': 'DOP 01/02 19'},\n  {'marketId': 'ROFX', 'symbol': 'DONov18 39.00c'},\n  {'marketId': 'ROFX', 'symbol': 'DOJun19A'},\n  {'marketId': 'ROFX', 'symbol': 'DOP 03/04 19'},\n  {'marketId': 'ROFX', 'symbol': 'DOEne19'},\n  {'marketId': 'ROFX', 'symbol': 'DOP 12/01 18'},\n  {'marketId': 'ROFX', 'symbol': 'DOFeb19 37.00c'},\n  {'marketId': 'ROFX', 'symbol': 'DOAgo19'},\n  {'marketId': 'ROFX', 'symbol': 'DOP 11/12 18'},\n  {'marketId': 'ROFX', 'symbol': 'DONov18 34.00p'},\n  {'marketId': 'ROFX', 'symbol': 'DODic18 38.00p'},\n  {'marketId': 'ROFX', 'symbol': 'DODic18 39.00p'},\n  {'marketId': 'ROFX', 'symbol': 'DODic18'},\n  {'marketId': 'ROFX', 'symbol': 'DONov18 35.00p'},\n  {'marketId': 'ROFX', 'symbol': 'DODic18 45.00c'},\n  {'marketId': 'ROFX', 'symbol': 'DOP 05/06 19'},\n  {'marketId': 'ROFX', 'symbol': 'DOFeb19 38.00c'},\n  {'marketId': 'ROFX', 'symbol': 'DOP 11/03 18'},\n  {'marketId': 'ROFX', 'symbol': 'DODic18 37.00p'},\n  {'marketId': 'ROFX', 'symbol': 'DOAbr19'},\n  {'marketId': 'ROFX', 'symbol': 'DONov18 36.00p'},\n  {'marketId': 'ROFX', 'symbol': 'DOFeb19 39.00c'},\n  {'marketId': 'ROFX', 'symbol': 'DODic18 45.00p'},\n  {'marketId': 'ROFX', 'symbol': 'DOOct19A'},\n  {'marketId': 'ROFX', 'symbol': 'DONov18 36.00c'},\n  {'marketId': 'ROFX', 'symbol': 'DODic18 43.00c'},\n  {'marketId': 'ROFX', 'symbol': 'DODic18 44.00p'},\n  {'marketId': 'ROFX', 'symbol': 'DOJul19'},\n  {'marketId': 'ROFX', 'symbol': 'DONov18 33.00p'},\n  {'marketId': 'ROFX', 'symbol': 'DOP 11/02 18'},\n  {'marketId': 'ROFX', 'symbol': 'DOOct19'},\n  {'marketId': 'ROFX', 'symbol': 'DODic18 43.00p'},\n  {'marketId': 'ROFX', 'symbol': 'DOJun19'},\n  {'marketId': 'ROFX', 'symbol': 'DOJul19A'},\n  {'marketId': 'ROFX', 'symbol': 'DOMay19'},\n  {'marketId': 'ROFX', 'symbol': 'DONov18'},\n  {'marketId': 'ROFX', 'symbol': 'DOMar19A'},\n  {'marketId': 'ROFX', 'symbol': 'DOSep19'},\n  {'marketId': 'ROFX', 'symbol': 'DOSep19A'},\n  {'marketId': 'ROFX', 'symbol': 'DODic18 39.00c'},\n  {'marketId': 'ROFX', 'symbol': 'DODic18 44.00c'},\n  {'marketId': 'ROFX', 'symbol': 'DOFeb19A'}]}"
      ]
     },
     "execution_count": 11,
     "metadata": {},
     "output_type": "execute_result"
    }
   ],
   "source": [
    "s1.instrumentsBySegments(\"DDF\")"
   ]
  },
  {
   "cell_type": "code",
   "execution_count": 13,
   "metadata": {},
   "outputs": [
    {
     "data": {
      "text/plain": [
       "{'status': 'OK',\n 'segments': [{'marketSegmentId': 'DDA', 'marketId': 'ROFX'},\n  {'marketSegmentId': 'DDF', 'marketId': 'ROFX'},\n  {'marketSegmentId': 'DUAL', 'marketId': 'ROFX'},\n  {'marketSegmentId': 'TEST', 'marketId': 'ROFX'},\n  {'marketSegmentId': 'MAE', 'marketId': 'ROFX'},\n  {'marketSegmentId': 'MERV', 'marketId': 'ROFX'},\n  {'marketSegmentId': 'MVR', 'marketId': 'ROFX'},\n  {'marketSegmentId': 'MVC', 'marketId': 'ROFX'},\n  {'marketSegmentId': 'MATBA', 'marketId': 'ROFX'},\n  {'marketSegmentId': 'PTPExt', 'marketId': 'ROFX'}]}"
      ]
     },
     "execution_count": 13,
     "metadata": {},
     "output_type": "execute_result"
    }
   ],
   "source": [
    "s1.listaSegmentosDisp()"
   ]
  },
  {
   "cell_type": "code",
   "execution_count": 5,
   "metadata": {},
   "outputs": [],
   "source": [
    "#rog1.instrumentos()"
   ]
  },
  {
   "cell_type": "code",
   "execution_count": 14,
   "metadata": {},
   "outputs": [
    {
     "data": {
      "text/plain": [
       "{'status': 'OK',\n 'instrument': {'segment': {'marketSegmentId': 'DUAL', 'marketId': 'ROFX'},\n  'lowLimitPrice': 36700,\n  'highLimitPrice': 43700,\n  'minPriceIncrement': 1.0,\n  'minTradeVol': 1.0,\n  'maxTradeVol': 1000.0,\n  'tickSize': 1.0,\n  'contractMultiplier': 1.0,\n  'roundLot': 1.0,\n  'priceConvertionFactor': 1.0,\n  'maturityDate': '20181228',\n  'currency': 'ARS',\n  'cficode': 'FXXXSX',\n  'instrumentId': {'marketId': 'ROFX', 'symbol': 'RFX20Dic18'}}}"
      ]
     },
     "execution_count": 14,
     "metadata": {},
     "output_type": "execute_result"
    }
   ],
   "source": [
    "s2.instrumentDetail(\"RFX20DIC18\",\"ROFX\")"
   ]
  },
  {
   "cell_type": "code",
   "execution_count": 11,
   "metadata": {},
   "outputs": [],
   "source": [
    "#prog1.instrumentsBySegments(\"DDF\")"
   ]
  },
  {
   "cell_type": "code",
   "execution_count": 10,
   "metadata": {},
   "outputs": [],
   "source": [
    "#prog1.getMarketDataHistRange(\"ROFX\",\"DODic18\",\"2018-11-01\",\"2018-11-19\")"
   ]
  },
  {
   "cell_type": "code",
   "execution_count": null,
   "metadata": {},
   "outputs": [],
   "source": []
  }
 ],
 "metadata": {
  "kernelspec": {
   "display_name": "Python 2",
   "language": "python",
   "name": "python2"
  },
  "language_info": {
   "codemirror_mode": {
    "name": "ipython",
    "version": 2
   },
   "file_extension": ".py",
   "mimetype": "text/x-python",
   "name": "python",
   "nbconvert_exporter": "python",
   "pygments_lexer": "ipython2",
   "version": "2.7.6"
  }
 },
 "nbformat": 4,
 "nbformat_minor": 0
}
