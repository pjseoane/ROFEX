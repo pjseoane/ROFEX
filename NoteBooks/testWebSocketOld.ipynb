{
 "cells": [
  {
   "cell_type": "code",
   "execution_count": 1,
   "metadata": {
    "collapsed": true
   },
   "outputs": [],
   "source": [
    "import websocket\n",
    "import threading\n",
    "activeWSEndpoint=\"ws://echo.websocket.org/\"\n",
    "from time import sleep\n",
    "i=0\n",
    "numMessages=0\n"
   ]
  },
  {
   "cell_type": "code",
   "execution_count": 8,
   "metadata": {},
   "outputs": [],
   "source": [
    "def on_message(ws, message):\n",
    "   #numMessages += 1\n",
    "    try:\n",
    "        #print(\"En on_message\")\n",
    "        print(\"Mensaje recibido\",message)\n",
    "    except:\n",
    "        print(\"Some error\")\n",
    "\n",
    "def on_error(ws,error):\n",
    "        print(\"Salio por error: \", error)\n",
    "        ws.close()\n",
    "\n",
    "def on_close(ws):\n",
    "        print(\"### connection closed ###\")\n",
    "\n",
    "def on_open(ws):\n",
    "       \n",
    "    print(\"WS Conection Open...\")\n",
    "    #aaa = i+1\n",
    "    #ws.send(\"uno\")\n",
    "    #print(\"Sent Suscription msg\", aaa)\n"
   ]
  },
  {
   "cell_type": "code",
   "execution_count": 9,
   "metadata": {},
   "outputs": [
    {
     "name": "stdout",
     "output_type": "stream",
     "text": [
      "WS Conection Open...\n"
     ]
    },
    {
     "name": "stdout",
     "output_type": "stream",
     "text": [
      "Sent Suscription msg\nReceiving...\nMensaje recibido Sent aaa\n"
     ]
    },
    {
     "name": "stdout",
     "output_type": "stream",
     "text": [
      "Mensaje recibido BBB\n"
     ]
    }
   ],
   "source": [
    "ws = websocket.WebSocketApp(\"ws://echo.websocket.org/\",\n",
    "                                             on_message=on_message,\n",
    "                                             on_error=on_error,\n",
    "                                             on_close=on_close,\n",
    "                                             on_open=on_open,\n",
    "                                             header=None)\n",
    "\n",
    "wst = threading.Thread(target=ws.run_forever, kwargs={\"ping_interval\": 15})\n",
    "wst.start()\n",
    "# Esperamos a que la conexion ws se establezca\n",
    "conn_timeout = 5\n",
    "# conn_timeout = 50 #y nada\n",
    "sleep(1)\n",
    "\n",
    "while not ws.sock.connected and conn_timeout:\n",
    "    sleep(1)\n",
    "    print(\"En loop not conected\")\n",
    "    conn_timeout -= 1\n",
    "else:\n",
    "    ws.send(\"Sent aaa\")\n",
    "    ws.send(\"BBB\")\n",
    "    print(\"Sent Suscription msg\")\n",
    "    \n",
    "    print(\"Receiving...\", )\n",
    "\n",
    "    sleep(1)  # y nada\n",
    "\n"
   ]
  },
  {
   "cell_type": "code",
   "execution_count": 10,
   "metadata": {},
   "outputs": [],
   "source": [
    "ws.send(\"jhjhj\")"
   ]
  },
  {
   "cell_type": "code",
   "execution_count": null,
   "metadata": {},
   "outputs": [],
   "source": []
  }
 ],
 "metadata": {
  "kernelspec": {
   "display_name": "Python 2",
   "language": "python",
   "name": "python2"
  },
  "language_info": {
   "codemirror_mode": {
    "name": "ipython",
    "version": 2
   },
   "file_extension": ".py",
   "mimetype": "text/x-python",
   "name": "python",
   "nbconvert_exporter": "python",
   "pygments_lexer": "ipython2",
   "version": "2.7.6"
  }
 },
 "nbformat": 4,
 "nbformat_minor": 0
}
