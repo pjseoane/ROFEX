{
 "cells": [
  {
   "cell_type": "code",
   "execution_count": 2,
   "metadata": {
    "collapsed": true
   },
   "outputs": [],
   "source": [
    "from Classes import cUser as rfx"
   ]
  },
  {
   "cell_type": "code",
   "execution_count": 3,
   "metadata": {},
   "outputs": [],
   "source": [
    "symbolsToSuscript=[\"DODic18\",\"RFX20Dic18\"]"
   ]
  },
  {
   "cell_type": "code",
   "execution_count": 4,
   "metadata": {},
   "outputs": [
    {
     "name": "stdout",
     "output_type": "stream",
     "text": [
      "login() OK ---> NPByyCfYI16tHYIqZh1A/S36On3j2a8V6q/K95Ihbgc=\n"
     ]
    },
    {
     "name": "stdout",
     "output_type": "stream",
     "text": [
      "WS Conection Open...\n"
     ]
    },
    {
     "name": "stdout",
     "output_type": "stream",
     "text": [
      "Sent Suscription msg {\"type\":\"smd\",\"level\":1, \"entries\":[\"BI\", \"OF\"],\"products\":[{\"symbol\":\"DODic18\",\"marketId\":\"ROFX\"}]}\nReceiving...\n"
     ]
    },
    {
     "name": "stdout",
     "output_type": "stream",
     "text": [
      "En goRobot****************\nTime stamp:  1542418802868 Symbol:  DODic18   38.302 / 38.34   2 / 150\nError al procesar mensaje recibido:--->>> {\"type\":\"Md\",\"timestamp\":1542418802868,\"instrumentId\":{\"marketId\":\"ROFX\",\"symbol\":\"DODic18\"},\"marketData\":{\"BI\":[{\"price\":38.302,\"size\":2}],\"OF\":[{\"price\":38.340,\"size\":150}]}}\n"
     ]
    },
    {
     "name": "stdout",
     "output_type": "stream",
     "text": [
      "Sent Suscription msg {\"type\":\"smd\",\"level\":1, \"entries\":[\"BI\", \"OF\"],\"products\":[{\"symbol\":\"RFX20Dic18\",\"marketId\":\"ROFX\"}]}\nReceiving...\n"
     ]
    },
    {
     "name": "stdout",
     "output_type": "stream",
     "text": [
      "En goRobot****************\nTime stamp:  1542418802868 Symbol:  DODic18   38.302 / 38.34   2 / 150\nTime stamp:  1542418803860 Symbol:  RFX20Dic18   39940 / 39990   5 / 25\n"
     ]
    }
   ],
   "source": [
    "s1=rfx.cRofexSuscript(\"balanz\",\"balanz\",555,symbolsToSuscript)"
   ]
  },
  {
   "cell_type": "code",
   "execution_count": null,
   "metadata": {},
   "outputs": [],
   "source": []
  }
 ],
 "metadata": {
  "kernelspec": {
   "display_name": "Python 2",
   "language": "python",
   "name": "python2"
  },
  "language_info": {
   "codemirror_mode": {
    "name": "ipython",
    "version": 2
   },
   "file_extension": ".py",
   "mimetype": "text/x-python",
   "name": "python",
   "nbconvert_exporter": "python",
   "pygments_lexer": "ipython2",
   "version": "2.7.6"
  }
 },
 "nbformat": 4,
 "nbformat_minor": 0
}
